{
 "cells": [
  {
   "cell_type": "markdown",
   "metadata": {},
   "source": [
    "## SwiftUI에서 위도경도 여러개를 JSON파일로 찍어보기위해 전처리하기"
   ]
  },
  {
   "cell_type": "code",
   "execution_count": 1,
   "metadata": {},
   "outputs": [],
   "source": [
    "import pandas as pd"
   ]
  },
  {
   "cell_type": "code",
   "execution_count": 2,
   "metadata": {},
   "outputs": [],
   "source": [
    "df = pd.read_csv(\"Data/제주도식당_위도경도컬럼.csv\")"
   ]
  },
  {
   "cell_type": "code",
   "execution_count": 3,
   "metadata": {},
   "outputs": [
    {
     "data": {
      "text/html": [
       "<div>\n",
       "<style scoped>\n",
       "    .dataframe tbody tr th:only-of-type {\n",
       "        vertical-align: middle;\n",
       "    }\n",
       "\n",
       "    .dataframe tbody tr th {\n",
       "        vertical-align: top;\n",
       "    }\n",
       "\n",
       "    .dataframe thead th {\n",
       "        text-align: right;\n",
       "    }\n",
       "</style>\n",
       "<table border=\"1\" class=\"dataframe\">\n",
       "  <thead>\n",
       "    <tr style=\"text-align: right;\">\n",
       "      <th></th>\n",
       "      <th>lat</th>\n",
       "      <th>lng</th>\n",
       "    </tr>\n",
       "  </thead>\n",
       "  <tbody>\n",
       "    <tr>\n",
       "      <th>0</th>\n",
       "      <td>33.5151128</td>\n",
       "      <td>126.5202001</td>\n",
       "    </tr>\n",
       "    <tr>\n",
       "      <th>1</th>\n",
       "      <td>33.5214225</td>\n",
       "      <td>126.8588743</td>\n",
       "    </tr>\n",
       "    <tr>\n",
       "      <th>2</th>\n",
       "      <td>33.4192601</td>\n",
       "      <td>126.2674304</td>\n",
       "    </tr>\n",
       "    <tr>\n",
       "      <th>3</th>\n",
       "      <td>33.4714278</td>\n",
       "      <td>126.5457848</td>\n",
       "    </tr>\n",
       "    <tr>\n",
       "      <th>4</th>\n",
       "      <td>33.4879976</td>\n",
       "      <td>126.4978933</td>\n",
       "    </tr>\n",
       "  </tbody>\n",
       "</table>\n",
       "</div>"
      ],
      "text/plain": [
       "          lat          lng\n",
       "0  33.5151128  126.5202001\n",
       "1  33.5214225  126.8588743\n",
       "2  33.4192601  126.2674304\n",
       "3  33.4714278  126.5457848\n",
       "4  33.4879976  126.4978933"
      ]
     },
     "execution_count": 3,
     "metadata": {},
     "output_type": "execute_result"
    }
   ],
   "source": [
    "df.head()"
   ]
  },
  {
   "cell_type": "markdown",
   "metadata": {},
   "source": [
    "### csv to JSON"
   ]
  },
  {
   "cell_type": "code",
   "execution_count": 4,
   "metadata": {},
   "outputs": [],
   "source": [
    "df.to_json('Data/제주도식당_위도경도JSON.json', orient='records', force_ascii=False)"
   ]
  },
  {
   "cell_type": "markdown",
   "metadata": {},
   "source": [
    "---\n",
    "### Map에 쓸 테스트 JSON 생성\n",
    "- 테스트 데이터이기 때문에 용량을 줄일 목적으로 리뷰가 없는 데이터는 제외"
   ]
  },
  {
   "cell_type": "code",
   "execution_count": 43,
   "metadata": {},
   "outputs": [],
   "source": [
    "jejuJSON = pd.read_json(\"Data/제주도식당Data.json\")"
   ]
  },
  {
   "cell_type": "code",
   "execution_count": 45,
   "metadata": {},
   "outputs": [],
   "source": [
    "jejuJSON = jejuJSON[jejuJSON['review'] != 'x']"
   ]
  },
  {
   "cell_type": "code",
   "execution_count": 46,
   "metadata": {},
   "outputs": [
    {
     "data": {
      "text/plain": [
       "1       13\n",
       "2       13\n",
       "3       13\n",
       "4       13\n",
       "5       13\n",
       "        ..\n",
       "9991    13\n",
       "9992    13\n",
       "9993    13\n",
       "9995    13\n",
       "9998    13\n",
       "Length: 5792, dtype: int64"
      ]
     },
     "execution_count": 46,
     "metadata": {},
     "output_type": "execute_result"
    }
   ],
   "source": [
    "jejuJSON.count(axis=1)"
   ]
  },
  {
   "cell_type": "code",
   "execution_count": 48,
   "metadata": {},
   "outputs": [],
   "source": [
    "jejuJSON = jejuJSON.iloc[0:,0:12]"
   ]
  },
  {
   "cell_type": "code",
   "execution_count": 50,
   "metadata": {},
   "outputs": [],
   "source": [
    "jejuJSON.to_json(\"Data/제주도식당Data_Test.json\", orient='records', force_ascii=False)"
   ]
  },
  {
   "cell_type": "markdown",
   "metadata": {},
   "source": [
    "---\n",
    "### 제주도 공중화장실 데이터 전처리"
   ]
  },
  {
   "cell_type": "code",
   "execution_count": 51,
   "metadata": {},
   "outputs": [
    {
     "name": "stderr",
     "output_type": "stream",
     "text": [
      "/Users/jeongtaeyeong/miniforge3/envs/tensorflow/lib/python3.10/site-packages/openpyxl/styles/stylesheet.py:226: UserWarning: Workbook contains no default style, apply openpyxl's default\n",
      "  warn(\"Workbook contains no default style, apply openpyxl's default\")\n"
     ]
    }
   ],
   "source": [
    "jejuToilet = pd.read_excel(\"Data/제주공중화장실Data_원본.xlsx\")"
   ]
  },
  {
   "cell_type": "code",
   "execution_count": 52,
   "metadata": {},
   "outputs": [
    {
     "data": {
      "text/html": [
       "<div>\n",
       "<style scoped>\n",
       "    .dataframe tbody tr th:only-of-type {\n",
       "        vertical-align: middle;\n",
       "    }\n",
       "\n",
       "    .dataframe tbody tr th {\n",
       "        vertical-align: top;\n",
       "    }\n",
       "\n",
       "    .dataframe thead th {\n",
       "        text-align: right;\n",
       "    }\n",
       "</style>\n",
       "<table border=\"1\" class=\"dataframe\">\n",
       "  <thead>\n",
       "    <tr style=\"text-align: right;\">\n",
       "      <th></th>\n",
       "      <th>번호</th>\n",
       "      <th>구분</th>\n",
       "      <th>근거</th>\n",
       "      <th>화장실명</th>\n",
       "      <th>소재지도로명주소</th>\n",
       "      <th>소재지지번주소</th>\n",
       "      <th>남성용-대변기수</th>\n",
       "      <th>남성용-소변기수</th>\n",
       "      <th>남성용-장애인용대변기수</th>\n",
       "      <th>남성용-장애인용소변기수</th>\n",
       "      <th>...</th>\n",
       "      <th>화장실소유구분</th>\n",
       "      <th>오물처리방식</th>\n",
       "      <th>안전관리시설설치대상여부</th>\n",
       "      <th>비상벨설치여부</th>\n",
       "      <th>비상벨설치장소</th>\n",
       "      <th>화장실입구CCTV설치유무</th>\n",
       "      <th>기저귀교환대유무</th>\n",
       "      <th>기저귀교환대장소</th>\n",
       "      <th>리모델링연월</th>\n",
       "      <th>데이터기준일자</th>\n",
       "    </tr>\n",
       "  </thead>\n",
       "  <tbody>\n",
       "    <tr>\n",
       "      <th>0</th>\n",
       "      <td>1</td>\n",
       "      <td>개방화장실</td>\n",
       "      <td>법제3조제1호</td>\n",
       "      <td>솔오름전망대</td>\n",
       "      <td>NaN</td>\n",
       "      <td>제주특별자치도 서귀포시 동홍동 2149</td>\n",
       "      <td>1</td>\n",
       "      <td>1</td>\n",
       "      <td>0</td>\n",
       "      <td>0</td>\n",
       "      <td>...</td>\n",
       "      <td>공공기관-지방자치단체</td>\n",
       "      <td>수거식</td>\n",
       "      <td>Y</td>\n",
       "      <td>Y</td>\n",
       "      <td>남자화장실+여자화장실</td>\n",
       "      <td>N</td>\n",
       "      <td>N</td>\n",
       "      <td>없음</td>\n",
       "      <td>NaN</td>\n",
       "      <td>2023-12-20</td>\n",
       "    </tr>\n",
       "    <tr>\n",
       "      <th>1</th>\n",
       "      <td>2</td>\n",
       "      <td>개방화장실</td>\n",
       "      <td>법제3조제1호</td>\n",
       "      <td>고근산</td>\n",
       "      <td>NaN</td>\n",
       "      <td>제주특별자치도 서귀포시 서호동 1286-1</td>\n",
       "      <td>1</td>\n",
       "      <td>1</td>\n",
       "      <td>0</td>\n",
       "      <td>0</td>\n",
       "      <td>...</td>\n",
       "      <td>공공기관-지방자치단체</td>\n",
       "      <td>수거식</td>\n",
       "      <td>Y</td>\n",
       "      <td>Y</td>\n",
       "      <td>남자화장실+여자화장실</td>\n",
       "      <td>N</td>\n",
       "      <td>N</td>\n",
       "      <td>없음</td>\n",
       "      <td>NaN</td>\n",
       "      <td>2023-12-20</td>\n",
       "    </tr>\n",
       "    <tr>\n",
       "      <th>2</th>\n",
       "      <td>3</td>\n",
       "      <td>개방화장실</td>\n",
       "      <td>법제3조제1호</td>\n",
       "      <td>엉또폭포</td>\n",
       "      <td>제주특별자치도 서귀포시 엉또로 104</td>\n",
       "      <td>제주특별자치도 서귀포시 강정동 1561-1</td>\n",
       "      <td>1</td>\n",
       "      <td>1</td>\n",
       "      <td>0</td>\n",
       "      <td>0</td>\n",
       "      <td>...</td>\n",
       "      <td>공공기관-지방자치단체</td>\n",
       "      <td>수거식</td>\n",
       "      <td>Y</td>\n",
       "      <td>Y</td>\n",
       "      <td>남자화장실+여자화장실</td>\n",
       "      <td>N</td>\n",
       "      <td>N</td>\n",
       "      <td>없음</td>\n",
       "      <td>NaN</td>\n",
       "      <td>2023-12-20</td>\n",
       "    </tr>\n",
       "    <tr>\n",
       "      <th>3</th>\n",
       "      <td>4</td>\n",
       "      <td>개방화장실</td>\n",
       "      <td>법제3조제1호</td>\n",
       "      <td>악근천(풍림콘도 -동쪽 바로 옆)</td>\n",
       "      <td>NaN</td>\n",
       "      <td>제주특별자치도 서귀포시 강정동 5628 (신축)</td>\n",
       "      <td>1</td>\n",
       "      <td>1</td>\n",
       "      <td>0</td>\n",
       "      <td>0</td>\n",
       "      <td>...</td>\n",
       "      <td>공공기관-지방자치단체</td>\n",
       "      <td>수거식</td>\n",
       "      <td>Y</td>\n",
       "      <td>Y</td>\n",
       "      <td>남자화장실+여자화장실</td>\n",
       "      <td>N</td>\n",
       "      <td>N</td>\n",
       "      <td>없음</td>\n",
       "      <td>NaN</td>\n",
       "      <td>2023-12-20</td>\n",
       "    </tr>\n",
       "    <tr>\n",
       "      <th>4</th>\n",
       "      <td>5</td>\n",
       "      <td>개방화장실</td>\n",
       "      <td>법제3조제1호</td>\n",
       "      <td>베릿내</td>\n",
       "      <td>제주특별자치도 서귀포시 중문관광로 181</td>\n",
       "      <td>제주특별자치도 서귀포시 중문동 2631</td>\n",
       "      <td>1</td>\n",
       "      <td>1</td>\n",
       "      <td>0</td>\n",
       "      <td>0</td>\n",
       "      <td>...</td>\n",
       "      <td>공공기관-지방자치단체</td>\n",
       "      <td>수거식</td>\n",
       "      <td>Y</td>\n",
       "      <td>Y</td>\n",
       "      <td>남자화장실+여자화장실</td>\n",
       "      <td>N</td>\n",
       "      <td>N</td>\n",
       "      <td>없음</td>\n",
       "      <td>NaN</td>\n",
       "      <td>2023-12-20</td>\n",
       "    </tr>\n",
       "  </tbody>\n",
       "</table>\n",
       "<p>5 rows × 32 columns</p>\n",
       "</div>"
      ],
      "text/plain": [
       "   번호     구분       근거                화장실명                소재지도로명주소  \\\n",
       "0   1  개방화장실  법제3조제1호              솔오름전망대                     NaN   \n",
       "1   2  개방화장실  법제3조제1호                 고근산                     NaN   \n",
       "2   3  개방화장실  법제3조제1호                엉또폭포    제주특별자치도 서귀포시 엉또로 104   \n",
       "3   4  개방화장실  법제3조제1호  악근천(풍림콘도 -동쪽 바로 옆)                     NaN   \n",
       "4   5  개방화장실  법제3조제1호                 베릿내  제주특별자치도 서귀포시 중문관광로 181   \n",
       "\n",
       "                      소재지지번주소  남성용-대변기수  남성용-소변기수  남성용-장애인용대변기수  남성용-장애인용소변기수  \\\n",
       "0       제주특별자치도 서귀포시 동홍동 2149         1         1             0             0   \n",
       "1     제주특별자치도 서귀포시 서호동 1286-1         1         1             0             0   \n",
       "2     제주특별자치도 서귀포시 강정동 1561-1         1         1             0             0   \n",
       "3  제주특별자치도 서귀포시 강정동 5628 (신축)         1         1             0             0   \n",
       "4       제주특별자치도 서귀포시 중문동 2631         1         1             0             0   \n",
       "\n",
       "   ...      화장실소유구분  오물처리방식  안전관리시설설치대상여부  비상벨설치여부      비상벨설치장소 화장실입구CCTV설치유무  \\\n",
       "0  ...  공공기관-지방자치단체     수거식             Y        Y  남자화장실+여자화장실             N   \n",
       "1  ...  공공기관-지방자치단체     수거식             Y        Y  남자화장실+여자화장실             N   \n",
       "2  ...  공공기관-지방자치단체     수거식             Y        Y  남자화장실+여자화장실             N   \n",
       "3  ...  공공기관-지방자치단체     수거식             Y        Y  남자화장실+여자화장실             N   \n",
       "4  ...  공공기관-지방자치단체     수거식             Y        Y  남자화장실+여자화장실             N   \n",
       "\n",
       "  기저귀교환대유무 기저귀교환대장소 리모델링연월     데이터기준일자  \n",
       "0        N       없음    NaN  2023-12-20  \n",
       "1        N       없음    NaN  2023-12-20  \n",
       "2        N       없음    NaN  2023-12-20  \n",
       "3        N       없음    NaN  2023-12-20  \n",
       "4        N       없음    NaN  2023-12-20  \n",
       "\n",
       "[5 rows x 32 columns]"
      ]
     },
     "execution_count": 52,
     "metadata": {},
     "output_type": "execute_result"
    }
   ],
   "source": [
    "jejuToilet.head()"
   ]
  },
  {
   "cell_type": "markdown",
   "metadata": {},
   "source": [
    "### 컬럼 확인\n",
    "- 필요한 컬럼만 뽑기위해 필요함"
   ]
  },
  {
   "cell_type": "code",
   "execution_count": 53,
   "metadata": {},
   "outputs": [
    {
     "data": {
      "text/plain": [
       "Index(['번호', '구분', '근거', '화장실명', '소재지도로명주소', '소재지지번주소', '남성용-대변기수', '남성용-소변기수',\n",
       "       '남성용-장애인용대변기수', '남성용-장애인용소변기수', '남성용-어린이용대변기수', '남성용-어린이용소변기수',\n",
       "       '여성용-대변기수', '여성용-장애인용대변기수', '여성용-어린이용대변기수', '관리기관명', '전화번호', '개방시간',\n",
       "       '개방시간상세', '설치연월', 'WGS84위도', 'WGS84경도', '화장실소유구분', '오물처리방식',\n",
       "       '안전관리시설설치대상여부', '비상벨설치여부', '비상벨설치장소', '화장실입구CCTV설치유무', '기저귀교환대유무',\n",
       "       '기저귀교환대장소', '리모델링연월', '데이터기준일자'],\n",
       "      dtype='object')"
      ]
     },
     "execution_count": 53,
     "metadata": {},
     "output_type": "execute_result"
    }
   ],
   "source": [
    "jejuToilet.columns"
   ]
  },
  {
   "cell_type": "markdown",
   "metadata": {},
   "source": [
    "### 제일 중요한 위도경도 값에 대한 결측치 확인"
   ]
  },
  {
   "cell_type": "code",
   "execution_count": 55,
   "metadata": {},
   "outputs": [
    {
     "data": {
      "text/plain": [
       "WGS84위도    427\n",
       "WGS84경도    427\n",
       "dtype: int64"
      ]
     },
     "execution_count": 55,
     "metadata": {},
     "output_type": "execute_result"
    }
   ],
   "source": [
    "jejuToilet[['WGS84위도', 'WGS84경도']].isna().sum()"
   ]
  },
  {
   "cell_type": "markdown",
   "metadata": {},
   "source": [
    "> 전체 데이터가 777개인데 427개가 na값이라 도로명주소로 위도경도를 채우기로 결정"
   ]
  },
  {
   "cell_type": "code",
   "execution_count": 65,
   "metadata": {},
   "outputs": [],
   "source": [
    "# NA값 존재시 API못돌려서 x로 대체\n",
    "jejuToilet['소재지도로명주소'].fillna('x', inplace=True)"
   ]
  },
  {
   "cell_type": "code",
   "execution_count": 56,
   "metadata": {},
   "outputs": [],
   "source": [
    "import urllib.request # network 요청 보내기\n",
    "import json\n",
    "import time\n",
    "import random\n",
    "\n",
    "# 네이버 API 키 정보들\n",
    "client_id = \"\"\n",
    "client_secret = \"\""
   ]
  },
  {
   "cell_type": "code",
   "execution_count": 138,
   "metadata": {},
   "outputs": [],
   "source": [
    "# 위도경도를 뽑아올 함수 정의\n",
    "def addressToLatLng(address):\n",
    "    url = \"https://naveropenapi.apigw.ntruss.com/map-geocode/v2/geocode?query=\" + urllib.parse.quote(address)\n",
    "    request = urllib.request.Request(url)\n",
    "    request.add_header(\"X-NCP-APIGW-API-KEY-ID\", client_id)\n",
    "    request.add_header(\"X-NCP-APIGW-API-KEY\", client_secret)\n",
    "    response = urllib.request.urlopen(request)\n",
    "    rescode = response.getcode()\n",
    "    lat_lng = None\n",
    "    if rescode == 200:\n",
    "        response_body = response.read()\n",
    "        entext = response_body.decode('utf-8')\n",
    "        data = json.loads(entext)\n",
    "        try:\n",
    "            lat_lng = {\n",
    "                \"lat\": data['addresses'][0]['y'],\n",
    "                \"lng\": data['addresses'][0]['x']\n",
    "            }\n",
    "        except:\n",
    "            # 주소에서 가져올 수 없을 때 x추가\n",
    "            lat_lng = {\"lat\": \"x\", \"lng\": \"x\"}\n",
    "    else:\n",
    "        print(\"Error Code:\" + rescode)\n",
    "    return lat_lng\n",
    "# 데이터프레임 초기화\n",
    "df = pd.DataFrame(columns=['latitude', 'longitude'])"
   ]
  },
  {
   "cell_type": "code",
   "execution_count": 139,
   "metadata": {},
   "outputs": [
    {
     "name": "stdout",
     "output_type": "stream",
     "text": [
      "1\n",
      "완료\n"
     ]
    }
   ],
   "source": [
    "# Test\n",
    "# addressToLatLng(\"제주특별자치도 제주시 중앙로 581, 에이동 1층 (아라일동)\")\n",
    "count = 1\n",
    "# 주소별 위도와 경도를 추출하여 데이터프레임에 추가\n",
    "# for address in jejuToilet['소재지도로명주소']:\n",
    "lat_lng = addressToLatLng(\"애월읍 상가리\")\n",
    "if lat_lng:\n",
    "    df = pd.concat([df, pd.DataFrame([lat_lng])], ignore_index=True)        \n",
    "    print(count)\n",
    "    count += 1\n",
    "\n",
    "print(\"완료\")"
   ]
  },
  {
   "cell_type": "code",
   "execution_count": 140,
   "metadata": {},
   "outputs": [],
   "source": [
    "df = df[['lat', 'lng']]"
   ]
  },
  {
   "cell_type": "code",
   "execution_count": 141,
   "metadata": {},
   "outputs": [
    {
     "data": {
      "text/html": [
       "<div>\n",
       "<style scoped>\n",
       "    .dataframe tbody tr th:only-of-type {\n",
       "        vertical-align: middle;\n",
       "    }\n",
       "\n",
       "    .dataframe tbody tr th {\n",
       "        vertical-align: top;\n",
       "    }\n",
       "\n",
       "    .dataframe thead th {\n",
       "        text-align: right;\n",
       "    }\n",
       "</style>\n",
       "<table border=\"1\" class=\"dataframe\">\n",
       "  <thead>\n",
       "    <tr style=\"text-align: right;\">\n",
       "      <th></th>\n",
       "      <th>lat</th>\n",
       "      <th>lng</th>\n",
       "    </tr>\n",
       "  </thead>\n",
       "  <tbody>\n",
       "    <tr>\n",
       "      <th>0</th>\n",
       "      <td>33.4073</td>\n",
       "      <td>126.3744</td>\n",
       "    </tr>\n",
       "  </tbody>\n",
       "</table>\n",
       "</div>"
      ],
      "text/plain": [
       "       lat       lng\n",
       "0  33.4073  126.3744"
      ]
     },
     "execution_count": 141,
     "metadata": {},
     "output_type": "execute_result"
    }
   ],
   "source": [
    "df"
   ]
  },
  {
   "cell_type": "code",
   "execution_count": 71,
   "metadata": {},
   "outputs": [],
   "source": [
    "newJejuToilet = pd.concat([jejuToilet, df], axis=1)"
   ]
  },
  {
   "cell_type": "code",
   "execution_count": 72,
   "metadata": {},
   "outputs": [
    {
     "data": {
      "text/html": [
       "<div>\n",
       "<style scoped>\n",
       "    .dataframe tbody tr th:only-of-type {\n",
       "        vertical-align: middle;\n",
       "    }\n",
       "\n",
       "    .dataframe tbody tr th {\n",
       "        vertical-align: top;\n",
       "    }\n",
       "\n",
       "    .dataframe thead th {\n",
       "        text-align: right;\n",
       "    }\n",
       "</style>\n",
       "<table border=\"1\" class=\"dataframe\">\n",
       "  <thead>\n",
       "    <tr style=\"text-align: right;\">\n",
       "      <th></th>\n",
       "      <th>번호</th>\n",
       "      <th>구분</th>\n",
       "      <th>근거</th>\n",
       "      <th>화장실명</th>\n",
       "      <th>소재지도로명주소</th>\n",
       "      <th>소재지지번주소</th>\n",
       "      <th>남성용-대변기수</th>\n",
       "      <th>남성용-소변기수</th>\n",
       "      <th>남성용-장애인용대변기수</th>\n",
       "      <th>남성용-장애인용소변기수</th>\n",
       "      <th>...</th>\n",
       "      <th>안전관리시설설치대상여부</th>\n",
       "      <th>비상벨설치여부</th>\n",
       "      <th>비상벨설치장소</th>\n",
       "      <th>화장실입구CCTV설치유무</th>\n",
       "      <th>기저귀교환대유무</th>\n",
       "      <th>기저귀교환대장소</th>\n",
       "      <th>리모델링연월</th>\n",
       "      <th>데이터기준일자</th>\n",
       "      <th>lat</th>\n",
       "      <th>lng</th>\n",
       "    </tr>\n",
       "  </thead>\n",
       "  <tbody>\n",
       "    <tr>\n",
       "      <th>0</th>\n",
       "      <td>1</td>\n",
       "      <td>개방화장실</td>\n",
       "      <td>법제3조제1호</td>\n",
       "      <td>솔오름전망대</td>\n",
       "      <td>x</td>\n",
       "      <td>제주특별자치도 서귀포시 동홍동 2149</td>\n",
       "      <td>1</td>\n",
       "      <td>1</td>\n",
       "      <td>0</td>\n",
       "      <td>0</td>\n",
       "      <td>...</td>\n",
       "      <td>Y</td>\n",
       "      <td>Y</td>\n",
       "      <td>남자화장실+여자화장실</td>\n",
       "      <td>N</td>\n",
       "      <td>N</td>\n",
       "      <td>없음</td>\n",
       "      <td>NaN</td>\n",
       "      <td>2023-12-20</td>\n",
       "      <td>x</td>\n",
       "      <td>x</td>\n",
       "    </tr>\n",
       "    <tr>\n",
       "      <th>1</th>\n",
       "      <td>2</td>\n",
       "      <td>개방화장실</td>\n",
       "      <td>법제3조제1호</td>\n",
       "      <td>고근산</td>\n",
       "      <td>x</td>\n",
       "      <td>제주특별자치도 서귀포시 서호동 1286-1</td>\n",
       "      <td>1</td>\n",
       "      <td>1</td>\n",
       "      <td>0</td>\n",
       "      <td>0</td>\n",
       "      <td>...</td>\n",
       "      <td>Y</td>\n",
       "      <td>Y</td>\n",
       "      <td>남자화장실+여자화장실</td>\n",
       "      <td>N</td>\n",
       "      <td>N</td>\n",
       "      <td>없음</td>\n",
       "      <td>NaN</td>\n",
       "      <td>2023-12-20</td>\n",
       "      <td>x</td>\n",
       "      <td>x</td>\n",
       "    </tr>\n",
       "    <tr>\n",
       "      <th>2</th>\n",
       "      <td>3</td>\n",
       "      <td>개방화장실</td>\n",
       "      <td>법제3조제1호</td>\n",
       "      <td>엉또폭포</td>\n",
       "      <td>제주특별자치도 서귀포시 엉또로 104</td>\n",
       "      <td>제주특별자치도 서귀포시 강정동 1561-1</td>\n",
       "      <td>1</td>\n",
       "      <td>1</td>\n",
       "      <td>0</td>\n",
       "      <td>0</td>\n",
       "      <td>...</td>\n",
       "      <td>Y</td>\n",
       "      <td>Y</td>\n",
       "      <td>남자화장실+여자화장실</td>\n",
       "      <td>N</td>\n",
       "      <td>N</td>\n",
       "      <td>없음</td>\n",
       "      <td>NaN</td>\n",
       "      <td>2023-12-20</td>\n",
       "      <td>33.2672443</td>\n",
       "      <td>126.4983941</td>\n",
       "    </tr>\n",
       "    <tr>\n",
       "      <th>3</th>\n",
       "      <td>4</td>\n",
       "      <td>개방화장실</td>\n",
       "      <td>법제3조제1호</td>\n",
       "      <td>악근천(풍림콘도 -동쪽 바로 옆)</td>\n",
       "      <td>x</td>\n",
       "      <td>제주특별자치도 서귀포시 강정동 5628 (신축)</td>\n",
       "      <td>1</td>\n",
       "      <td>1</td>\n",
       "      <td>0</td>\n",
       "      <td>0</td>\n",
       "      <td>...</td>\n",
       "      <td>Y</td>\n",
       "      <td>Y</td>\n",
       "      <td>남자화장실+여자화장실</td>\n",
       "      <td>N</td>\n",
       "      <td>N</td>\n",
       "      <td>없음</td>\n",
       "      <td>NaN</td>\n",
       "      <td>2023-12-20</td>\n",
       "      <td>x</td>\n",
       "      <td>x</td>\n",
       "    </tr>\n",
       "    <tr>\n",
       "      <th>4</th>\n",
       "      <td>5</td>\n",
       "      <td>개방화장실</td>\n",
       "      <td>법제3조제1호</td>\n",
       "      <td>베릿내</td>\n",
       "      <td>제주특별자치도 서귀포시 중문관광로 181</td>\n",
       "      <td>제주특별자치도 서귀포시 중문동 2631</td>\n",
       "      <td>1</td>\n",
       "      <td>1</td>\n",
       "      <td>0</td>\n",
       "      <td>0</td>\n",
       "      <td>...</td>\n",
       "      <td>Y</td>\n",
       "      <td>Y</td>\n",
       "      <td>남자화장실+여자화장실</td>\n",
       "      <td>N</td>\n",
       "      <td>N</td>\n",
       "      <td>없음</td>\n",
       "      <td>NaN</td>\n",
       "      <td>2023-12-20</td>\n",
       "      <td>33.2447132</td>\n",
       "      <td>126.4195338</td>\n",
       "    </tr>\n",
       "  </tbody>\n",
       "</table>\n",
       "<p>5 rows × 34 columns</p>\n",
       "</div>"
      ],
      "text/plain": [
       "   번호     구분       근거                화장실명                소재지도로명주소  \\\n",
       "0   1  개방화장실  법제3조제1호              솔오름전망대                       x   \n",
       "1   2  개방화장실  법제3조제1호                 고근산                       x   \n",
       "2   3  개방화장실  법제3조제1호                엉또폭포    제주특별자치도 서귀포시 엉또로 104   \n",
       "3   4  개방화장실  법제3조제1호  악근천(풍림콘도 -동쪽 바로 옆)                       x   \n",
       "4   5  개방화장실  법제3조제1호                 베릿내  제주특별자치도 서귀포시 중문관광로 181   \n",
       "\n",
       "                      소재지지번주소  남성용-대변기수  남성용-소변기수  남성용-장애인용대변기수  남성용-장애인용소변기수  \\\n",
       "0       제주특별자치도 서귀포시 동홍동 2149         1         1             0             0   \n",
       "1     제주특별자치도 서귀포시 서호동 1286-1         1         1             0             0   \n",
       "2     제주특별자치도 서귀포시 강정동 1561-1         1         1             0             0   \n",
       "3  제주특별자치도 서귀포시 강정동 5628 (신축)         1         1             0             0   \n",
       "4       제주특별자치도 서귀포시 중문동 2631         1         1             0             0   \n",
       "\n",
       "   ...  안전관리시설설치대상여부  비상벨설치여부      비상벨설치장소  화장실입구CCTV설치유무  기저귀교환대유무 기저귀교환대장소  \\\n",
       "0  ...             Y        Y  남자화장실+여자화장실              N         N       없음   \n",
       "1  ...             Y        Y  남자화장실+여자화장실              N         N       없음   \n",
       "2  ...             Y        Y  남자화장실+여자화장실              N         N       없음   \n",
       "3  ...             Y        Y  남자화장실+여자화장실              N         N       없음   \n",
       "4  ...             Y        Y  남자화장실+여자화장실              N         N       없음   \n",
       "\n",
       "  리모델링연월     데이터기준일자         lat          lng  \n",
       "0    NaN  2023-12-20           x            x  \n",
       "1    NaN  2023-12-20           x            x  \n",
       "2    NaN  2023-12-20  33.2672443  126.4983941  \n",
       "3    NaN  2023-12-20           x            x  \n",
       "4    NaN  2023-12-20  33.2447132  126.4195338  \n",
       "\n",
       "[5 rows x 34 columns]"
      ]
     },
     "execution_count": 72,
     "metadata": {},
     "output_type": "execute_result"
    }
   ],
   "source": [
    "newJejuToilet.head()"
   ]
  },
  {
   "cell_type": "markdown",
   "metadata": {},
   "source": [
    "### 위도경도 값이 없으면 API로 가져온 위도경도 값 넣어주기"
   ]
  },
  {
   "cell_type": "code",
   "execution_count": 73,
   "metadata": {},
   "outputs": [
    {
     "data": {
      "text/html": [
       "<div>\n",
       "<style scoped>\n",
       "    .dataframe tbody tr th:only-of-type {\n",
       "        vertical-align: middle;\n",
       "    }\n",
       "\n",
       "    .dataframe tbody tr th {\n",
       "        vertical-align: top;\n",
       "    }\n",
       "\n",
       "    .dataframe thead th {\n",
       "        text-align: right;\n",
       "    }\n",
       "</style>\n",
       "<table border=\"1\" class=\"dataframe\">\n",
       "  <thead>\n",
       "    <tr style=\"text-align: right;\">\n",
       "      <th></th>\n",
       "      <th>WGS84위도</th>\n",
       "      <th>WGS84경도</th>\n",
       "      <th>lat</th>\n",
       "      <th>lng</th>\n",
       "    </tr>\n",
       "  </thead>\n",
       "  <tbody>\n",
       "    <tr>\n",
       "      <th>0</th>\n",
       "      <td>33.29096</td>\n",
       "      <td>126.55501</td>\n",
       "      <td>x</td>\n",
       "      <td>x</td>\n",
       "    </tr>\n",
       "    <tr>\n",
       "      <th>1</th>\n",
       "      <td>33.26631</td>\n",
       "      <td>126.51379</td>\n",
       "      <td>x</td>\n",
       "      <td>x</td>\n",
       "    </tr>\n",
       "    <tr>\n",
       "      <th>2</th>\n",
       "      <td>33.26724</td>\n",
       "      <td>126.49839</td>\n",
       "      <td>33.2672443</td>\n",
       "      <td>126.4983941</td>\n",
       "    </tr>\n",
       "    <tr>\n",
       "      <th>3</th>\n",
       "      <td>33.23437</td>\n",
       "      <td>126.48992</td>\n",
       "      <td>x</td>\n",
       "      <td>x</td>\n",
       "    </tr>\n",
       "    <tr>\n",
       "      <th>4</th>\n",
       "      <td>33.24471</td>\n",
       "      <td>126.41953</td>\n",
       "      <td>33.2447132</td>\n",
       "      <td>126.4195338</td>\n",
       "    </tr>\n",
       "    <tr>\n",
       "      <th>...</th>\n",
       "      <td>...</td>\n",
       "      <td>...</td>\n",
       "      <td>...</td>\n",
       "      <td>...</td>\n",
       "    </tr>\n",
       "    <tr>\n",
       "      <th>772</th>\n",
       "      <td>NaN</td>\n",
       "      <td>NaN</td>\n",
       "      <td>33.4863833</td>\n",
       "      <td>126.4569079</td>\n",
       "    </tr>\n",
       "    <tr>\n",
       "      <th>773</th>\n",
       "      <td>NaN</td>\n",
       "      <td>NaN</td>\n",
       "      <td>33.4866347</td>\n",
       "      <td>126.4375090</td>\n",
       "    </tr>\n",
       "    <tr>\n",
       "      <th>774</th>\n",
       "      <td>NaN</td>\n",
       "      <td>NaN</td>\n",
       "      <td>33.4750610</td>\n",
       "      <td>126.5155220</td>\n",
       "    </tr>\n",
       "    <tr>\n",
       "      <th>775</th>\n",
       "      <td>NaN</td>\n",
       "      <td>NaN</td>\n",
       "      <td>33.5096823</td>\n",
       "      <td>126.7156478</td>\n",
       "    </tr>\n",
       "    <tr>\n",
       "      <th>776</th>\n",
       "      <td>NaN</td>\n",
       "      <td>NaN</td>\n",
       "      <td>33.5169012</td>\n",
       "      <td>126.7037448</td>\n",
       "    </tr>\n",
       "  </tbody>\n",
       "</table>\n",
       "<p>777 rows × 4 columns</p>\n",
       "</div>"
      ],
      "text/plain": [
       "      WGS84위도    WGS84경도         lat          lng\n",
       "0    33.29096  126.55501           x            x\n",
       "1    33.26631  126.51379           x            x\n",
       "2    33.26724  126.49839  33.2672443  126.4983941\n",
       "3    33.23437  126.48992           x            x\n",
       "4    33.24471  126.41953  33.2447132  126.4195338\n",
       "..        ...        ...         ...          ...\n",
       "772       NaN        NaN  33.4863833  126.4569079\n",
       "773       NaN        NaN  33.4866347  126.4375090\n",
       "774       NaN        NaN  33.4750610  126.5155220\n",
       "775       NaN        NaN  33.5096823  126.7156478\n",
       "776       NaN        NaN  33.5169012  126.7037448\n",
       "\n",
       "[777 rows x 4 columns]"
      ]
     },
     "execution_count": 73,
     "metadata": {},
     "output_type": "execute_result"
    }
   ],
   "source": [
    "# 데이터 확인\n",
    "newJejuToilet[['WGS84위도', 'WGS84경도', 'lat', 'lng']]"
   ]
  },
  {
   "cell_type": "markdown",
   "metadata": {},
   "source": [
    "### na값 채우기"
   ]
  },
  {
   "cell_type": "code",
   "execution_count": 79,
   "metadata": {},
   "outputs": [
    {
     "name": "stderr",
     "output_type": "stream",
     "text": [
      "/var/folders/09/43kl2fx1247736ywj_tnnz500000gn/T/ipykernel_25776/767485145.py:2: FutureWarning: Setting an item of incompatible dtype is deprecated and will raise in a future error of pandas. Value '['126.9291494' '126.3447602' '126.3406787' '126.3030938' '126.3030938' 'x'\n",
      " '126.4261469' '126.3298018' '126.3071485' 'x' 'x' 'x' '126.3543658' 'x'\n",
      " 'x' 'x' 'x' 'x' '126.3468168' 'x' '126.3923184' 'x' 'x' '126.3583544'\n",
      " '126.3030938' 'x' 'x' 'x' 'x' '126.7598429' 'x' 'x' '126.8514013'\n",
      " '126.8566436' '126.8620520' 'x' '126.7570207' 'x' 'x' 'x' 'x' 'x' 'x' 'x'\n",
      " '126.8804801' 'x' 'x' 'x' 'x' '126.8988005' '126.8141764' '126.8626805'\n",
      " '126.8572966' 'x' 'x' 'x' 'x' '126.6139881' '126.6139881' 'x' 'x'\n",
      " '126.6355458' '126.6740732' '126.3291907' '126.4033364' '126.8520370'\n",
      " '126.8520370' '126.8520370' '126.6341880' '126.6437192' '126.6146300'\n",
      " '126.1841306' '126.1837080' '126.1845301' '126.2960724' '126.9558798'\n",
      " '126.9530513' '126.5263272' '126.5263272' '126.5371111' '126.5268961'\n",
      " '126.5352568' '126.5173684' '126.5222202' '126.5133381' '126.5116914'\n",
      " '126.5315146' '126.5653710' '126.5854635' '126.5946695' '126.5452322'\n",
      " '126.5115625' '126.9530513' '126.4968445' '126.4771750' '126.4771750'\n",
      " '126.4550017' '126.4321011' '126.4580880' '126.4682826' '126.5337137' 'x'\n",
      " '126.5114000' 'x' '126.5476899' '126.5476899' '126.5476899' 'x'\n",
      " '126.4913412' '126.4879402' '126.5201915' '126.5242565' '126.5444905'\n",
      " '126.5396959' '126.4828696' '126.4692518' '126.5271887' 'x' 'x' 'x' 'x'\n",
      " 'x' '126.5472916' '126.5982215' 'x' '126.4672312' '126.5502653'\n",
      " '126.6701028' '126.6705232' '126.5002260' '126.5433833' '126.5433833'\n",
      " '126.5433833' '126.5433833' '126.5433833' '126.5433833' '126.5433833'\n",
      " '126.5342262' '126.5342262' '126.5342262' '126.5342262' '126.5433833'\n",
      " '126.5459475' '126.5376063' '126.5417342' '126.6005344' '126.6005344'\n",
      " '126.6005344' '126.4982702' '126.5005064' '126.8633984' '126.8633984'\n",
      " '126.8633984' '126.8633984' '126.6705232' '126.6679649' 'x' 'x' 'x' 'x'\n",
      " '126.6251975' '126.6251975' '126.6251975' '126.6255747' '126.6255747'\n",
      " '126.7371770' '126.3241826' '126.3445853' '126.4547212' 'x' 'x' 'x'\n",
      " '126.6484815' '126.6741188' '126.1651419' '126.1676197' 'x' 'x'\n",
      " '126.2262664' 'x' 'x' 'x' 'x' 'x' 'x' 'x' '126.1825321' 'x' 'x' 'x' 'x'\n",
      " '126.1943852' 'x' 'x' 'x' '126.8633984' '126.8633984' '126.8633984'\n",
      " '126.5789045' '126.5789045' '126.5789045' '126.5789045' 'x' 'x'\n",
      " '126.2607871' '126.2143263' '126.2362051' '126.2394319' 'x' '126.2625272'\n",
      " '126.2643981' '126.2786718' '126.2896260' '126.2940928' '126.2738583'\n",
      " '126.2745058' '126.2648428' '126.5789045' '126.5789045' '126.4948419'\n",
      " '126.4948419' '126.4850041' '126.5176491' '126.4948419' '126.6194078'\n",
      " '126.6194078' '126.6194078' '126.5509940' '126.5281780' '126.5281780'\n",
      " '126.5509940' '126.4895815' '126.4895815' '126.2659791' '126.2686755' 'x'\n",
      " 'x' '126.3401279' 'x' '126.2975341' '126.2895689' 'x' '126.2983816' 'x'\n",
      " '126.3336478' '126.3300644' 'x' 'x' 'x' '126.3278641' '126.2975176'\n",
      " '126.3122988' 'x' '126.3234684' '126.2956341' '126.3216742' '126.3290371'\n",
      " '126.9431167' '126.9433165' 'x' '126.9666320' '126.9666320' 'x'\n",
      " '126.4801816' '126.7796886' '126.2072624' '126.6406638' '126.6406638'\n",
      " '126.5349000' 'x' 'x' 'x' 'x' '126.6501418' '126.5366495' '126.4950875'\n",
      " '126.5270675' '126.5161506' '126.6567103' '126.6567103' '126.6567103'\n",
      " '126.6567103' '126.6567103' '126.6567103' '126.6567103' '126.5311380'\n",
      " '126.5419257' '126.5311380' 'x' '126.9515778' 'x' 'x' 'x' '126.9573473'\n",
      " '126.9593849' 'x' '126.9501218' 'x' '126.5277203' '126.5263272'\n",
      " '126.5295674' '126.5465193' '126.5465193' '126.5238514' '126.5252325'\n",
      " '126.4994427' 'x' 'x' '126.5655223' 'x' '126.5638935' '126.5573907'\n",
      " '126.5868977' 'x' '126.5914576' 'x' 'x' '126.2648428' '126.2648428'\n",
      " '126.2648428' '126.2288887' 'x' 'x' 'x' '126.2592364' 'x' '126.5265890'\n",
      " '126.4957131' '126.5349374' '126.5260869' '126.4798238' '126.4747531' 'x'\n",
      " 'x' 'x' '126.4892854' '126.5423913' '126.5453606' '126.4769536'\n",
      " '126.5631584' 'x' '126.5470056' '126.5282277' '126.5282277' '126.5179038'\n",
      " '126.4748883' '126.4748883' '126.4748883' '126.4731314' '126.4731314'\n",
      " '126.5261270' '126.5311380' '126.5311380' '126.5311380' '126.5315011'\n",
      " '126.5311191' '126.5299227' '126.5313208' '126.5323758' '126.5325106'\n",
      " '126.5239304' '126.5471743' '126.5242565' '126.5492077' 'x' '126.5487423'\n",
      " '126.5623921' '126.5230604' '126.5435156' 'x' '126.5829930' 'x' 'x'\n",
      " '126.5155220' '126.5202549' '126.5202549' '126.4771750' '126.5783777'\n",
      " '126.2697130' '126.2697130' '126.3249989' '126.1851816' '126.7512216'\n",
      " '126.2669853' '126.2619931' '126.2681696' '126.4968445' '126.4908857'\n",
      " '126.4874068' '126.4621575' 'x' 'x' '126.4416357' 'x' '126.4549252'\n",
      " '126.4495833' '126.4593752' '126.4777874' '126.4668285' '126.4689775'\n",
      " '126.5241832' '126.5260165' 'x' '126.5282277' '126.5282277' '126.5587513'\n",
      " '126.5989444' '126.5551683' '126.4872373' '126.3597364' '126.5143020'\n",
      " '126.5143020' '126.5143020' '126.5143020' '126.5143020' '126.5143020'\n",
      " '126.5444241' '126.5982451' '126.6365086' '126.6365086' '126.4790916'\n",
      " '126.4362616' '126.4569079' '126.4375090' '126.5155220' '126.7156478'\n",
      " '126.7037448']' has dtype incompatible with float64, please explicitly cast to a compatible dtype first.\n",
      "  newJejuToilet['WGS84경도'].fillna(newJejuToilet['lng'], inplace=True)\n"
     ]
    }
   ],
   "source": [
    "newJejuToilet['WGS84위도'].fillna(newJejuToilet['lat'], inplace=True)\n",
    "newJejuToilet['WGS84경도'].fillna(newJejuToilet['lng'], inplace=True)"
   ]
  },
  {
   "cell_type": "code",
   "execution_count": 105,
   "metadata": {},
   "outputs": [
    {
     "name": "stdout",
     "output_type": "stream",
     "text": [
      "WGS84위도    object\n",
      "WGS84경도    object\n",
      "dtype: object\n"
     ]
    }
   ],
   "source": [
    "# newJejuToilet[['WGS84위도', 'WGS84경도']].isna().sum()\n",
    "print(newJejuToilet[['WGS84위도', 'WGS84경도']].dtypes)"
   ]
  },
  {
   "cell_type": "code",
   "execution_count": 83,
   "metadata": {},
   "outputs": [],
   "source": [
    "# 'lat'와 'lng' 열 삭제\n",
    "newJejuToilet.drop(columns=['lat', 'lng'], inplace=True)"
   ]
  },
  {
   "cell_type": "code",
   "execution_count": 87,
   "metadata": {},
   "outputs": [
    {
     "data": {
      "text/html": [
       "<div>\n",
       "<style scoped>\n",
       "    .dataframe tbody tr th:only-of-type {\n",
       "        vertical-align: middle;\n",
       "    }\n",
       "\n",
       "    .dataframe tbody tr th {\n",
       "        vertical-align: top;\n",
       "    }\n",
       "\n",
       "    .dataframe thead th {\n",
       "        text-align: right;\n",
       "    }\n",
       "</style>\n",
       "<table border=\"1\" class=\"dataframe\">\n",
       "  <thead>\n",
       "    <tr style=\"text-align: right;\">\n",
       "      <th></th>\n",
       "      <th>번호</th>\n",
       "      <th>구분</th>\n",
       "      <th>근거</th>\n",
       "      <th>화장실명</th>\n",
       "      <th>소재지도로명주소</th>\n",
       "      <th>소재지지번주소</th>\n",
       "      <th>남성용-대변기수</th>\n",
       "      <th>남성용-소변기수</th>\n",
       "      <th>남성용-장애인용대변기수</th>\n",
       "      <th>남성용-장애인용소변기수</th>\n",
       "      <th>...</th>\n",
       "      <th>화장실소유구분</th>\n",
       "      <th>오물처리방식</th>\n",
       "      <th>안전관리시설설치대상여부</th>\n",
       "      <th>비상벨설치여부</th>\n",
       "      <th>비상벨설치장소</th>\n",
       "      <th>화장실입구CCTV설치유무</th>\n",
       "      <th>기저귀교환대유무</th>\n",
       "      <th>기저귀교환대장소</th>\n",
       "      <th>리모델링연월</th>\n",
       "      <th>데이터기준일자</th>\n",
       "    </tr>\n",
       "  </thead>\n",
       "  <tbody>\n",
       "    <tr>\n",
       "      <th>772</th>\n",
       "      <td>773</td>\n",
       "      <td>개방화장실</td>\n",
       "      <td>법제3조제13호</td>\n",
       "      <td>이호운동장</td>\n",
       "      <td>제주특별자치도 제주시 오광로6길58-11</td>\n",
       "      <td>NaN</td>\n",
       "      <td>1</td>\n",
       "      <td>2</td>\n",
       "      <td>1</td>\n",
       "      <td>0</td>\n",
       "      <td>...</td>\n",
       "      <td>공공기관-지방자치단체</td>\n",
       "      <td>수세식</td>\n",
       "      <td>Y</td>\n",
       "      <td>Y</td>\n",
       "      <td>여자화장실</td>\n",
       "      <td>N</td>\n",
       "      <td>N</td>\n",
       "      <td>없음</td>\n",
       "      <td>NaN</td>\n",
       "      <td>2023-12-31</td>\n",
       "    </tr>\n",
       "    <tr>\n",
       "      <th>773</th>\n",
       "      <td>774</td>\n",
       "      <td>개방화장실</td>\n",
       "      <td>법제3조제13호</td>\n",
       "      <td>외도2운동장</td>\n",
       "      <td>제주특별자치도 제주시 통물길75</td>\n",
       "      <td>NaN</td>\n",
       "      <td>2</td>\n",
       "      <td>2</td>\n",
       "      <td>1</td>\n",
       "      <td>0</td>\n",
       "      <td>...</td>\n",
       "      <td>공공기관-지방자치단체</td>\n",
       "      <td>수세식</td>\n",
       "      <td>Y</td>\n",
       "      <td>Y</td>\n",
       "      <td>여자화장실</td>\n",
       "      <td>N</td>\n",
       "      <td>N</td>\n",
       "      <td>없음</td>\n",
       "      <td>NaN</td>\n",
       "      <td>2023-12-31</td>\n",
       "    </tr>\n",
       "    <tr>\n",
       "      <th>774</th>\n",
       "      <td>775</td>\n",
       "      <td>개방화장실</td>\n",
       "      <td>법제3조제16호-영제3조제1항제1호</td>\n",
       "      <td>제주아트센터 외부 화장실</td>\n",
       "      <td>제주특별자치도 제주시 오남로 231</td>\n",
       "      <td>NaN</td>\n",
       "      <td>1</td>\n",
       "      <td>1</td>\n",
       "      <td>0</td>\n",
       "      <td>0</td>\n",
       "      <td>...</td>\n",
       "      <td>공공기관-지방자치단체</td>\n",
       "      <td>수세식</td>\n",
       "      <td>Y</td>\n",
       "      <td>Y</td>\n",
       "      <td>남자화장실+여자화장실</td>\n",
       "      <td>N</td>\n",
       "      <td>N</td>\n",
       "      <td>없음</td>\n",
       "      <td>NaN</td>\n",
       "      <td>2023-12-31</td>\n",
       "    </tr>\n",
       "    <tr>\n",
       "      <th>775</th>\n",
       "      <td>776</td>\n",
       "      <td>개방화장실</td>\n",
       "      <td>법제3조제16호-영제3조제1항제1호</td>\n",
       "      <td>동백동산(습지센타 주차장)</td>\n",
       "      <td>제주특별자치도 제주시 조천읍 동백로 77</td>\n",
       "      <td>NaN</td>\n",
       "      <td>3</td>\n",
       "      <td>5</td>\n",
       "      <td>1</td>\n",
       "      <td>0</td>\n",
       "      <td>...</td>\n",
       "      <td>공공기관-지방자치단체</td>\n",
       "      <td>수세식</td>\n",
       "      <td>Y</td>\n",
       "      <td>Y</td>\n",
       "      <td>장애인화장실+남자화장실+여자화장실</td>\n",
       "      <td>N</td>\n",
       "      <td>Y</td>\n",
       "      <td>남자화장실+여자화장실</td>\n",
       "      <td>NaN</td>\n",
       "      <td>2023-12-31</td>\n",
       "    </tr>\n",
       "    <tr>\n",
       "      <th>776</th>\n",
       "      <td>777</td>\n",
       "      <td>개방화장실</td>\n",
       "      <td>법제3조제16호-영제3조제1항제1호</td>\n",
       "      <td>에코촌 유스호스텔 주차장</td>\n",
       "      <td>제주특별자치도 제주시 조천읍 북흘로 376-9</td>\n",
       "      <td>NaN</td>\n",
       "      <td>3</td>\n",
       "      <td>3</td>\n",
       "      <td>1</td>\n",
       "      <td>0</td>\n",
       "      <td>...</td>\n",
       "      <td>공공기관-지방자치단체</td>\n",
       "      <td>수세식</td>\n",
       "      <td>Y</td>\n",
       "      <td>Y</td>\n",
       "      <td>장애인화장실+남자화장실+여자화장실</td>\n",
       "      <td>Y</td>\n",
       "      <td>Y</td>\n",
       "      <td>여자화장실</td>\n",
       "      <td>NaN</td>\n",
       "      <td>2023-12-31</td>\n",
       "    </tr>\n",
       "  </tbody>\n",
       "</table>\n",
       "<p>5 rows × 32 columns</p>\n",
       "</div>"
      ],
      "text/plain": [
       "      번호     구분                   근거            화장실명  \\\n",
       "772  773  개방화장실             법제3조제13호           이호운동장   \n",
       "773  774  개방화장실             법제3조제13호          외도2운동장   \n",
       "774  775  개방화장실  법제3조제16호-영제3조제1항제1호   제주아트센터 외부 화장실   \n",
       "775  776  개방화장실  법제3조제16호-영제3조제1항제1호  동백동산(습지센타 주차장)   \n",
       "776  777  개방화장실  법제3조제16호-영제3조제1항제1호   에코촌 유스호스텔 주차장   \n",
       "\n",
       "                      소재지도로명주소 소재지지번주소  남성용-대변기수  남성용-소변기수  남성용-장애인용대변기수  \\\n",
       "772     제주특별자치도 제주시 오광로6길58-11     NaN         1         2             1   \n",
       "773          제주특별자치도 제주시 통물길75     NaN         2         2             1   \n",
       "774        제주특별자치도 제주시 오남로 231     NaN         1         1             0   \n",
       "775     제주특별자치도 제주시 조천읍 동백로 77     NaN         3         5             1   \n",
       "776  제주특별자치도 제주시 조천읍 북흘로 376-9     NaN         3         3             1   \n",
       "\n",
       "     남성용-장애인용소변기수  ...      화장실소유구분  오물처리방식  안전관리시설설치대상여부  비상벨설치여부  \\\n",
       "772             0  ...  공공기관-지방자치단체     수세식             Y        Y   \n",
       "773             0  ...  공공기관-지방자치단체     수세식             Y        Y   \n",
       "774             0  ...  공공기관-지방자치단체     수세식             Y        Y   \n",
       "775             0  ...  공공기관-지방자치단체     수세식             Y        Y   \n",
       "776             0  ...  공공기관-지방자치단체     수세식             Y        Y   \n",
       "\n",
       "                비상벨설치장소 화장실입구CCTV설치유무 기저귀교환대유무     기저귀교환대장소 리모델링연월     데이터기준일자  \n",
       "772               여자화장실             N        N           없음    NaN  2023-12-31  \n",
       "773               여자화장실             N        N           없음    NaN  2023-12-31  \n",
       "774         남자화장실+여자화장실             N        N           없음    NaN  2023-12-31  \n",
       "775  장애인화장실+남자화장실+여자화장실             N        Y  남자화장실+여자화장실    NaN  2023-12-31  \n",
       "776  장애인화장실+남자화장실+여자화장실             Y        Y        여자화장실    NaN  2023-12-31  \n",
       "\n",
       "[5 rows x 32 columns]"
      ]
     },
     "execution_count": 87,
     "metadata": {},
     "output_type": "execute_result"
    }
   ],
   "source": [
    "newJejuToilet.tail()"
   ]
  },
  {
   "cell_type": "code",
   "execution_count": 86,
   "metadata": {},
   "outputs": [
    {
     "data": {
      "text/plain": [
       "0      30\n",
       "1      30\n",
       "2      30\n",
       "3      30\n",
       "4      30\n",
       "       ..\n",
       "772    29\n",
       "773    29\n",
       "774    29\n",
       "775    29\n",
       "776    29\n",
       "Length: 777, dtype: int64"
      ]
     },
     "execution_count": 86,
     "metadata": {},
     "output_type": "execute_result"
    }
   ],
   "source": [
    "newJejuToilet.count(axis=1)"
   ]
  },
  {
   "cell_type": "markdown",
   "metadata": {},
   "source": [
    "### 필요한 컬럼만 뽑아서 json파일로 저장하기\n"
   ]
  },
  {
   "cell_type": "code",
   "execution_count": 88,
   "metadata": {},
   "outputs": [
    {
     "data": {
      "text/plain": [
       "Index(['번호', '구분', '근거', '화장실명', '소재지도로명주소', '소재지지번주소', '남성용-대변기수', '남성용-소변기수',\n",
       "       '남성용-장애인용대변기수', '남성용-장애인용소변기수', '남성용-어린이용대변기수', '남성용-어린이용소변기수',\n",
       "       '여성용-대변기수', '여성용-장애인용대변기수', '여성용-어린이용대변기수', '관리기관명', '전화번호', '개방시간',\n",
       "       '개방시간상세', '설치연월', 'WGS84위도', 'WGS84경도', '화장실소유구분', '오물처리방식',\n",
       "       '안전관리시설설치대상여부', '비상벨설치여부', '비상벨설치장소', '화장실입구CCTV설치유무', '기저귀교환대유무',\n",
       "       '기저귀교환대장소', '리모델링연월', '데이터기준일자'],\n",
       "      dtype='object')"
      ]
     },
     "execution_count": 88,
     "metadata": {},
     "output_type": "execute_result"
    }
   ],
   "source": [
    "newJejuToilet.columns"
   ]
  },
  {
   "cell_type": "code",
   "execution_count": 96,
   "metadata": {},
   "outputs": [],
   "source": [
    "# 컬럼 이름에 -를 _로 바꾸기\n",
    "newJejuToilet.columns = newJejuToilet.columns.str.replace('-', '_')"
   ]
  },
  {
   "cell_type": "code",
   "execution_count": 97,
   "metadata": {},
   "outputs": [],
   "source": [
    "finalJejuToilet = newJejuToilet[['화장실명', '소재지도로명주소', '남성용_장애인용대변기수', '남성용_장애인용소변기수','여성용_장애인용대변기수', '개방시간상세', 'WGS84위도', 'WGS84경도', '비상벨설치여부', '비상벨설치장소', '기저귀교환대유무', '기저귀교환대장소']]"
   ]
  },
  {
   "cell_type": "code",
   "execution_count": 99,
   "metadata": {},
   "outputs": [
    {
     "name": "stderr",
     "output_type": "stream",
     "text": [
      "/var/folders/09/43kl2fx1247736ywj_tnnz500000gn/T/ipykernel_25776/2438710255.py:1: SettingWithCopyWarning: \n",
      "A value is trying to be set on a copy of a slice from a DataFrame\n",
      "\n",
      "See the caveats in the documentation: https://pandas.pydata.org/pandas-docs/stable/user_guide/indexing.html#returning-a-view-versus-a-copy\n",
      "  finalJejuToilet.fillna(\"정보없음\", inplace=True)\n"
     ]
    }
   ],
   "source": [
    "finalJejuToilet.fillna(\"정보없음\", inplace=True)"
   ]
  },
  {
   "cell_type": "markdown",
   "metadata": {},
   "source": [
    "### 타입이 다르면 문제가 생겨서 위도경도 타입을 str로 통일"
   ]
  },
  {
   "cell_type": "code",
   "execution_count": 106,
   "metadata": {},
   "outputs": [
    {
     "name": "stderr",
     "output_type": "stream",
     "text": [
      "/var/folders/09/43kl2fx1247736ywj_tnnz500000gn/T/ipykernel_25776/1406651597.py:1: SettingWithCopyWarning: \n",
      "A value is trying to be set on a copy of a slice from a DataFrame.\n",
      "Try using .loc[row_indexer,col_indexer] = value instead\n",
      "\n",
      "See the caveats in the documentation: https://pandas.pydata.org/pandas-docs/stable/user_guide/indexing.html#returning-a-view-versus-a-copy\n",
      "  finalJejuToilet[['WGS84위도', 'WGS84경도']] = finalJejuToilet[['WGS84위도', 'WGS84경도']].astype(str)\n"
     ]
    }
   ],
   "source": [
    "finalJejuToilet[['WGS84위도', 'WGS84경도']] = finalJejuToilet[['WGS84위도', 'WGS84경도']].astype(str)"
   ]
  },
  {
   "cell_type": "code",
   "execution_count": 108,
   "metadata": {},
   "outputs": [
    {
     "data": {
      "text/plain": [
       "화장실명            object\n",
       "소재지도로명주소        object\n",
       "남성용_장애인용대변기수     int64\n",
       "남성용_장애인용소변기수     int64\n",
       "여성용_장애인용대변기수     int64\n",
       "개방시간상세          object\n",
       "WGS84위도         object\n",
       "WGS84경도         object\n",
       "비상벨설치여부         object\n",
       "비상벨설치장소         object\n",
       "기저귀교환대유무        object\n",
       "기저귀교환대장소        object\n",
       "dtype: object"
      ]
     },
     "execution_count": 108,
     "metadata": {},
     "output_type": "execute_result"
    }
   ],
   "source": [
    "finalJejuToilet.dtypes"
   ]
  },
  {
   "cell_type": "code",
   "execution_count": 109,
   "metadata": {},
   "outputs": [],
   "source": [
    "finalJejuToilet.to_json(\"Data/제주공중화장실Data_전처리.json\", orient='records', force_ascii=False)"
   ]
  },
  {
   "cell_type": "markdown",
   "metadata": {},
   "source": [
    "### 지도 테스트용 관광지 JSON 데이터 생성"
   ]
  },
  {
   "cell_type": "code",
   "execution_count": 114,
   "metadata": {},
   "outputs": [],
   "source": [
    "jejuTourist = pd.read_csv(\"Data/review_scrapy_data.csv\")"
   ]
  },
  {
   "cell_type": "markdown",
   "metadata": {},
   "source": [
    "#### 숙박 데이터는 제외하기"
   ]
  },
  {
   "cell_type": "code",
   "execution_count": 116,
   "metadata": {},
   "outputs": [
    {
     "data": {
      "text/plain": [
       "array(['쇼핑', '숙박', '관광지'], dtype=object)"
      ]
     },
     "execution_count": 116,
     "metadata": {},
     "output_type": "execute_result"
    }
   ],
   "source": [
    "jejuTourist['category'].unique()"
   ]
  },
  {
   "cell_type": "code",
   "execution_count": 121,
   "metadata": {},
   "outputs": [],
   "source": [
    "jejuTourist = jejuTourist[jejuTourist['category'] != \"숙박\"]"
   ]
  },
  {
   "cell_type": "code",
   "execution_count": 122,
   "metadata": {},
   "outputs": [
    {
     "data": {
      "text/html": [
       "<div>\n",
       "<style scoped>\n",
       "    .dataframe tbody tr th:only-of-type {\n",
       "        vertical-align: middle;\n",
       "    }\n",
       "\n",
       "    .dataframe tbody tr th {\n",
       "        vertical-align: top;\n",
       "    }\n",
       "\n",
       "    .dataframe thead th {\n",
       "        text-align: right;\n",
       "    }\n",
       "</style>\n",
       "<table border=\"1\" class=\"dataframe\">\n",
       "  <thead>\n",
       "    <tr style=\"text-align: right;\">\n",
       "      <th></th>\n",
       "      <th>title</th>\n",
       "      <th>category</th>\n",
       "      <th>introduction</th>\n",
       "      <th>address</th>\n",
       "      <th>roadaddress</th>\n",
       "      <th>latitude</th>\n",
       "      <th>longitude</th>\n",
       "      <th>phoneno</th>\n",
       "      <th>imgpath</th>\n",
       "      <th>tag</th>\n",
       "    </tr>\n",
       "  </thead>\n",
       "  <tbody>\n",
       "    <tr>\n",
       "      <th>0</th>\n",
       "      <td>미유</td>\n",
       "      <td>쇼핑</td>\n",
       "      <td>숲속 별장처럼 꾸며진 소품 가게</td>\n",
       "      <td>제주특별자치도 제주시 한림읍 옹포리 326-3</td>\n",
       "      <td>제주특별자치도 제주시 한림읍 한림상로 15-5</td>\n",
       "      <td>33.405636</td>\n",
       "      <td>126.256762</td>\n",
       "      <td>0507-1349-9322</td>\n",
       "      <td>https://api.cdn.visitjeju.net/photomng/imgpath...</td>\n",
       "      <td>핸드메이드소품, 키링, 우산, 한림, 옹포리, 소품샵, 지갑, 쇼핑</td>\n",
       "    </tr>\n",
       "    <tr>\n",
       "      <th>1</th>\n",
       "      <td>마야블루</td>\n",
       "      <td>쇼핑</td>\n",
       "      <td>마야블루는 제주 시내의 주택가 사이에 작은 간판으로 자신의 존재를 알리고 있다. 이...</td>\n",
       "      <td>제주특별자치도 제주시 노형동 1052-27</td>\n",
       "      <td>제주특별자치도 제주시 월랑로6길 21</td>\n",
       "      <td>33.489570</td>\n",
       "      <td>126.478593</td>\n",
       "      <td>010-8515-2470</td>\n",
       "      <td>https://api.cdn.visitjeju.net/photomng/imgpath...</td>\n",
       "      <td>악세사리, 쇼핑,라탄,원데이클래스,관광기념품,상점/상가, 쇼핑,라탄,원데이클래스,카...</td>\n",
       "    </tr>\n",
       "    <tr>\n",
       "      <th>2</th>\n",
       "      <td>몸냥공작소</td>\n",
       "      <td>쇼핑</td>\n",
       "      <td>귀엽고 제주스러운 유니크한 소품가게</td>\n",
       "      <td>제주특별자치도 제주시 애월읍 유수암리 2503-1</td>\n",
       "      <td>제주특별자치도 제주시 애월읍 하소로 595</td>\n",
       "      <td>33.430614</td>\n",
       "      <td>126.397470</td>\n",
       "      <td>--</td>\n",
       "      <td>https://api.cdn.visitjeju.net/photomng/imgpath...</td>\n",
       "      <td>공방,기념품,,아주 어려움, 공방,기념품,쇼핑,관광기념품,상점/상가</td>\n",
       "    </tr>\n",
       "    <tr>\n",
       "      <th>3</th>\n",
       "      <td>은인마켙</td>\n",
       "      <td>쇼핑</td>\n",
       "      <td>자개, 유리 등 다양한 식기류를 만나볼 수 있는 소품샵</td>\n",
       "      <td>제주특별자치도 제주시 조천읍 함덕리 1082</td>\n",
       "      <td>제주특별자치도 제주시 조천읍 함덕서2길 20</td>\n",
       "      <td>33.540661</td>\n",
       "      <td>126.663099</td>\n",
       "      <td>010-3006-7721</td>\n",
       "      <td>https://api.cdn.visitjeju.net/photomng/imgpath...</td>\n",
       "      <td>소품샵, 함덕, 잡화, 식기</td>\n",
       "    </tr>\n",
       "    <tr>\n",
       "      <th>4</th>\n",
       "      <td>뱅뱅와인마켓</td>\n",
       "      <td>쇼핑</td>\n",
       "      <td>공항 인근에 위치한 대형 와인판매점</td>\n",
       "      <td>제주특별자치도 제주시 오라이동 2171-1</td>\n",
       "      <td>제주특별자치도 제주시 사평2길 9</td>\n",
       "      <td>33.492220</td>\n",
       "      <td>126.510559</td>\n",
       "      <td>064-746-4141</td>\n",
       "      <td>https://api.cdn.visitjeju.net/photomng/imgpath...</td>\n",
       "      <td>샴페인, 오라동, 와인, 제주시내</td>\n",
       "    </tr>\n",
       "  </tbody>\n",
       "</table>\n",
       "</div>"
      ],
      "text/plain": [
       "    title category                                       introduction  \\\n",
       "0      미유       쇼핑                                  숲속 별장처럼 꾸며진 소품 가게   \n",
       "1    마야블루       쇼핑  마야블루는 제주 시내의 주택가 사이에 작은 간판으로 자신의 존재를 알리고 있다. 이...   \n",
       "2   몸냥공작소       쇼핑                                귀엽고 제주스러운 유니크한 소품가게   \n",
       "3    은인마켙       쇼핑                     자개, 유리 등 다양한 식기류를 만나볼 수 있는 소품샵   \n",
       "4  뱅뱅와인마켓       쇼핑                                공항 인근에 위치한 대형 와인판매점   \n",
       "\n",
       "                       address                roadaddress   latitude  \\\n",
       "0    제주특별자치도 제주시 한림읍 옹포리 326-3  제주특별자치도 제주시 한림읍 한림상로 15-5  33.405636   \n",
       "1      제주특별자치도 제주시 노형동 1052-27       제주특별자치도 제주시 월랑로6길 21  33.489570   \n",
       "2  제주특별자치도 제주시 애월읍 유수암리 2503-1    제주특별자치도 제주시 애월읍 하소로 595  33.430614   \n",
       "3     제주특별자치도 제주시 조천읍 함덕리 1082   제주특별자치도 제주시 조천읍 함덕서2길 20  33.540661   \n",
       "4      제주특별자치도 제주시 오라이동 2171-1         제주특별자치도 제주시 사평2길 9  33.492220   \n",
       "\n",
       "    longitude         phoneno  \\\n",
       "0  126.256762  0507-1349-9322   \n",
       "1  126.478593   010-8515-2470   \n",
       "2  126.397470              --   \n",
       "3  126.663099   010-3006-7721   \n",
       "4  126.510559    064-746-4141   \n",
       "\n",
       "                                             imgpath  \\\n",
       "0  https://api.cdn.visitjeju.net/photomng/imgpath...   \n",
       "1  https://api.cdn.visitjeju.net/photomng/imgpath...   \n",
       "2  https://api.cdn.visitjeju.net/photomng/imgpath...   \n",
       "3  https://api.cdn.visitjeju.net/photomng/imgpath...   \n",
       "4  https://api.cdn.visitjeju.net/photomng/imgpath...   \n",
       "\n",
       "                                                 tag  \n",
       "0              핸드메이드소품, 키링, 우산, 한림, 옹포리, 소품샵, 지갑, 쇼핑  \n",
       "1  악세사리, 쇼핑,라탄,원데이클래스,관광기념품,상점/상가, 쇼핑,라탄,원데이클래스,카...  \n",
       "2              공방,기념품,,아주 어려움, 공방,기념품,쇼핑,관광기념품,상점/상가  \n",
       "3                                    소품샵, 함덕, 잡화, 식기  \n",
       "4                                 샴페인, 오라동, 와인, 제주시내  "
      ]
     },
     "execution_count": 122,
     "metadata": {},
     "output_type": "execute_result"
    }
   ],
   "source": [
    "jejuTourist.head()"
   ]
  },
  {
   "cell_type": "code",
   "execution_count": 136,
   "metadata": {},
   "outputs": [
    {
     "data": {
      "text/plain": [
       "Index(['title', 'category', 'introduction', 'address', 'roadaddress',\n",
       "       'latitude', 'longitude', 'phoneno', 'imgpath', 'tag'],\n",
       "      dtype='object')"
      ]
     },
     "execution_count": 136,
     "metadata": {},
     "output_type": "execute_result"
    }
   ],
   "source": [
    "jejuTourist.columns"
   ]
  },
  {
   "cell_type": "code",
   "execution_count": 137,
   "metadata": {},
   "outputs": [
    {
     "data": {
      "text/plain": [
       "latitude     float64\n",
       "longitude    float64\n",
       "dtype: object"
      ]
     },
     "execution_count": 137,
     "metadata": {},
     "output_type": "execute_result"
    }
   ],
   "source": [
    "jejuTourist[['latitude', 'longitude']].dtypes"
   ]
  },
  {
   "cell_type": "code",
   "execution_count": 135,
   "metadata": {},
   "outputs": [
    {
     "data": {
      "text/plain": [
       "329     10\n",
       "334     10\n",
       "345     10\n",
       "349     10\n",
       "351     10\n",
       "        ..\n",
       "2515    10\n",
       "2537    10\n",
       "2538    10\n",
       "2541    10\n",
       "2552    10\n",
       "Length: 136, dtype: int64"
      ]
     },
     "execution_count": 135,
     "metadata": {},
     "output_type": "execute_result"
    }
   ],
   "source": [
    "jejuTourist[jejuTourist['tag'].str.contains(\"반려동물\")].count(axis=1)"
   ]
  },
  {
   "cell_type": "code",
   "execution_count": 123,
   "metadata": {},
   "outputs": [],
   "source": [
    "jejuTourist.to_json(\"Data/제주도관광지_testData.json\", orient='records', force_ascii=False)"
   ]
  },
  {
   "cell_type": "code",
   "execution_count": 143,
   "metadata": {},
   "outputs": [],
   "source": [
    "rDf = pd.read_json(\"Data/제주도식당Data.json\")"
   ]
  },
  {
   "cell_type": "code",
   "execution_count": 154,
   "metadata": {},
   "outputs": [
    {
     "data": {
      "text/plain": [
       "array(['기타', '한식', '식육(숯불구이)', '정종/대포집/소주방', '분식', '중국식', '일식', '경양식',\n",
       "       '호프/통닭', '패밀리레스트랑', '뷔페식', '감성주점', '외국음식전문점(인도,태국등)', '김밥(도시락)',\n",
       "       '횟집', '냉면집', '까페', '통닭(치킨)', '탕류(보신용)', '복어취급', '패스트푸드', '출장조리',\n",
       "       '전통찻집', '라이브카페', '키즈카페'], dtype=object)"
      ]
     },
     "execution_count": 154,
     "metadata": {},
     "output_type": "execute_result"
    }
   ],
   "source": [
    "rDf['업종구분소분류'].unique()"
   ]
  },
  {
   "cell_type": "code",
   "execution_count": null,
   "metadata": {},
   "outputs": [],
   "source": []
  }
 ],
 "metadata": {
  "kernelspec": {
   "display_name": "tensorflow",
   "language": "python",
   "name": "python3"
  },
  "language_info": {
   "codemirror_mode": {
    "name": "ipython",
    "version": 3
   },
   "file_extension": ".py",
   "mimetype": "text/x-python",
   "name": "python",
   "nbconvert_exporter": "python",
   "pygments_lexer": "ipython3",
   "version": "3.10.12"
  }
 },
 "nbformat": 4,
 "nbformat_minor": 2
}
