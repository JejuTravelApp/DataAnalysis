{
 "cells": [
  {
   "cell_type": "markdown",
   "metadata": {},
   "source": [
    "## 제주도 식당정보의 도로명주소를 통해 네이버 지오코딩으로 위도경도 받아오기\n",
    "- 제주_식당정보.csv를 사용"
   ]
  },
  {
   "cell_type": "markdown",
   "metadata": {},
   "source": [
    "---\n",
    "### 불러오기"
   ]
  },
  {
   "cell_type": "code",
   "execution_count": 10,
   "metadata": {},
   "outputs": [],
   "source": [
    "import pandas as pd"
   ]
  },
  {
   "cell_type": "code",
   "execution_count": 11,
   "metadata": {},
   "outputs": [],
   "source": [
    "jejuData = pd.read_csv(\"Data/제주_식당정보.csv\", encoding=\"cp949\")"
   ]
  },
  {
   "cell_type": "markdown",
   "metadata": {},
   "source": [
    "--- \n",
    "### 데이터 확인해보기"
   ]
  },
  {
   "cell_type": "code",
   "execution_count": 12,
   "metadata": {},
   "outputs": [
    {
     "data": {
      "text/html": [
       "<div>\n",
       "<style scoped>\n",
       "    .dataframe tbody tr th:only-of-type {\n",
       "        vertical-align: middle;\n",
       "    }\n",
       "\n",
       "    .dataframe tbody tr th {\n",
       "        vertical-align: top;\n",
       "    }\n",
       "\n",
       "    .dataframe thead th {\n",
       "        text-align: right;\n",
       "    }\n",
       "</style>\n",
       "<table border=\"1\" class=\"dataframe\">\n",
       "  <thead>\n",
       "    <tr style=\"text-align: right;\">\n",
       "      <th></th>\n",
       "      <th>사업장명</th>\n",
       "      <th>업종구분대분류</th>\n",
       "      <th>업종구분소분류</th>\n",
       "      <th>인허가일자</th>\n",
       "      <th>인허가취소일자</th>\n",
       "      <th>영업상태명</th>\n",
       "      <th>상세영업상태명</th>\n",
       "      <th>폐업일자</th>\n",
       "      <th>휴업시작일자</th>\n",
       "      <th>휴업종료일자</th>\n",
       "      <th>재개업일자</th>\n",
       "      <th>소재지면적</th>\n",
       "      <th>소재지전체주소</th>\n",
       "      <th>도로명전체주소</th>\n",
       "      <th>도로명우편번호</th>\n",
       "      <th>데이터갱신일자</th>\n",
       "    </tr>\n",
       "  </thead>\n",
       "  <tbody>\n",
       "    <tr>\n",
       "      <th>0</th>\n",
       "      <td>탑동에이치지</td>\n",
       "      <td>일반음식점</td>\n",
       "      <td>기타</td>\n",
       "      <td>20181129</td>\n",
       "      <td>NaN</td>\n",
       "      <td>영업/정상</td>\n",
       "      <td>영업</td>\n",
       "      <td>NaN</td>\n",
       "      <td>NaN</td>\n",
       "      <td>NaN</td>\n",
       "      <td>NaN</td>\n",
       "      <td>80.14</td>\n",
       "      <td>제주특별자치도 제주시 삼도이동 1120-2</td>\n",
       "      <td>제주특별자치도 제주시 무근성안길 16, 1층 (삼도이동)</td>\n",
       "      <td>63166.0</td>\n",
       "      <td>2023-11-07</td>\n",
       "    </tr>\n",
       "    <tr>\n",
       "      <th>1</th>\n",
       "      <td>에릭스에스프레소</td>\n",
       "      <td>일반음식점</td>\n",
       "      <td>기타</td>\n",
       "      <td>20181102</td>\n",
       "      <td>NaN</td>\n",
       "      <td>영업/정상</td>\n",
       "      <td>영업</td>\n",
       "      <td>NaN</td>\n",
       "      <td>NaN</td>\n",
       "      <td>NaN</td>\n",
       "      <td>NaN</td>\n",
       "      <td>27.00</td>\n",
       "      <td>제주특별자치도 제주시 구좌읍 세화리 1397-6번지</td>\n",
       "      <td>제주특별자치도 제주시 구좌읍 구좌로 77, 1층</td>\n",
       "      <td>63361.0</td>\n",
       "      <td>2023-11-07</td>\n",
       "    </tr>\n",
       "    <tr>\n",
       "      <th>2</th>\n",
       "      <td>일품순두부한림점</td>\n",
       "      <td>일반음식점</td>\n",
       "      <td>한식</td>\n",
       "      <td>20190107</td>\n",
       "      <td>NaN</td>\n",
       "      <td>영업/정상</td>\n",
       "      <td>영업</td>\n",
       "      <td>NaN</td>\n",
       "      <td>NaN</td>\n",
       "      <td>NaN</td>\n",
       "      <td>NaN</td>\n",
       "      <td>152.00</td>\n",
       "      <td>제주특별자치도 제주시 한림읍 대림리 1845-2번지</td>\n",
       "      <td>제주특별자치도 제주시 한림읍 한림상로 237, 1층</td>\n",
       "      <td>63030.0</td>\n",
       "      <td>2023-11-07</td>\n",
       "    </tr>\n",
       "    <tr>\n",
       "      <th>3</th>\n",
       "      <td>김복남맥주제주아라점</td>\n",
       "      <td>일반음식점</td>\n",
       "      <td>식육(숯불구이)</td>\n",
       "      <td>20190107</td>\n",
       "      <td>NaN</td>\n",
       "      <td>영업/정상</td>\n",
       "      <td>영업</td>\n",
       "      <td>NaN</td>\n",
       "      <td>NaN</td>\n",
       "      <td>NaN</td>\n",
       "      <td>NaN</td>\n",
       "      <td>82.00</td>\n",
       "      <td>제주특별자치도 제주시 아라일동 6139</td>\n",
       "      <td>제주특별자치도 제주시 중앙로 581, 에이동 1층 (아라일동)</td>\n",
       "      <td>63248.0</td>\n",
       "      <td>2023-11-07</td>\n",
       "    </tr>\n",
       "    <tr>\n",
       "      <th>4</th>\n",
       "      <td>봉플라봉뱅</td>\n",
       "      <td>일반음식점</td>\n",
       "      <td>기타</td>\n",
       "      <td>20190107</td>\n",
       "      <td>NaN</td>\n",
       "      <td>영업/정상</td>\n",
       "      <td>영업</td>\n",
       "      <td>NaN</td>\n",
       "      <td>NaN</td>\n",
       "      <td>NaN</td>\n",
       "      <td>NaN</td>\n",
       "      <td>58.94</td>\n",
       "      <td>제주특별자치도 제주시 연동 312-57번지 정인하우스</td>\n",
       "      <td>제주특별자치도 제주시 문송1길 6-1, 정인하우스 1층 (연동)</td>\n",
       "      <td>63122.0</td>\n",
       "      <td>2023-11-07</td>\n",
       "    </tr>\n",
       "  </tbody>\n",
       "</table>\n",
       "</div>"
      ],
      "text/plain": [
       "         사업장명 업종구분대분류   업종구분소분류     인허가일자  인허가취소일자  영업상태명 상세영업상태명  폐업일자  \\\n",
       "0      탑동에이치지   일반음식점        기타  20181129      NaN  영업/정상      영업   NaN   \n",
       "1    에릭스에스프레소   일반음식점        기타  20181102      NaN  영업/정상      영업   NaN   \n",
       "2    일품순두부한림점   일반음식점        한식  20190107      NaN  영업/정상      영업   NaN   \n",
       "3  김복남맥주제주아라점   일반음식점  식육(숯불구이)  20190107      NaN  영업/정상      영업   NaN   \n",
       "4       봉플라봉뱅   일반음식점        기타  20190107      NaN  영업/정상      영업   NaN   \n",
       "\n",
       "   휴업시작일자  휴업종료일자  재개업일자   소재지면적                        소재지전체주소  \\\n",
       "0     NaN     NaN    NaN   80.14        제주특별자치도 제주시 삼도이동 1120-2   \n",
       "1     NaN     NaN    NaN   27.00   제주특별자치도 제주시 구좌읍 세화리 1397-6번지   \n",
       "2     NaN     NaN    NaN  152.00   제주특별자치도 제주시 한림읍 대림리 1845-2번지   \n",
       "3     NaN     NaN    NaN   82.00          제주특별자치도 제주시 아라일동 6139   \n",
       "4     NaN     NaN    NaN   58.94  제주특별자치도 제주시 연동 312-57번지 정인하우스   \n",
       "\n",
       "                               도로명전체주소  도로명우편번호     데이터갱신일자  \n",
       "0      제주특별자치도 제주시 무근성안길 16, 1층 (삼도이동)  63166.0  2023-11-07  \n",
       "1           제주특별자치도 제주시 구좌읍 구좌로 77, 1층  63361.0  2023-11-07  \n",
       "2         제주특별자치도 제주시 한림읍 한림상로 237, 1층  63030.0  2023-11-07  \n",
       "3   제주특별자치도 제주시 중앙로 581, 에이동 1층 (아라일동)  63248.0  2023-11-07  \n",
       "4  제주특별자치도 제주시 문송1길 6-1, 정인하우스 1층 (연동)  63122.0  2023-11-07  "
      ]
     },
     "execution_count": 12,
     "metadata": {},
     "output_type": "execute_result"
    }
   ],
   "source": [
    "jejuData.head()"
   ]
  },
  {
   "cell_type": "code",
   "execution_count": 13,
   "metadata": {},
   "outputs": [
    {
     "data": {
      "text/plain": [
       "0        11\n",
       "1        11\n",
       "2        11\n",
       "3        11\n",
       "4        11\n",
       "         ..\n",
       "47562    12\n",
       "47563    12\n",
       "47564    12\n",
       "47565    12\n",
       "47566    12\n",
       "Length: 47567, dtype: int64"
      ]
     },
     "execution_count": 13,
     "metadata": {},
     "output_type": "execute_result"
    }
   ],
   "source": [
    "jejuData.count(axis=1)"
   ]
  },
  {
   "cell_type": "markdown",
   "metadata": {},
   "source": [
    "> 식당 데이터는 총 47,567개"
   ]
  },
  {
   "cell_type": "markdown",
   "metadata": {},
   "source": [
    "### 결측치 체크하기"
   ]
  },
  {
   "cell_type": "code",
   "execution_count": 14,
   "metadata": {},
   "outputs": [
    {
     "data": {
      "text/plain": [
       "20876"
      ]
     },
     "execution_count": 14,
     "metadata": {},
     "output_type": "execute_result"
    }
   ],
   "source": [
    "jejuData['폐업일자'].isna().sum()"
   ]
  },
  {
   "cell_type": "markdown",
   "metadata": {},
   "source": [
    "> 47,567개 중에서 폐업하지 않은 식당 갯수는 20,876개"
   ]
  },
  {
   "cell_type": "code",
   "execution_count": 21,
   "metadata": {},
   "outputs": [
    {
     "data": {
      "text/html": [
       "<div>\n",
       "<style scoped>\n",
       "    .dataframe tbody tr th:only-of-type {\n",
       "        vertical-align: middle;\n",
       "    }\n",
       "\n",
       "    .dataframe tbody tr th {\n",
       "        vertical-align: top;\n",
       "    }\n",
       "\n",
       "    .dataframe thead th {\n",
       "        text-align: right;\n",
       "    }\n",
       "</style>\n",
       "<table border=\"1\" class=\"dataframe\">\n",
       "  <thead>\n",
       "    <tr style=\"text-align: right;\">\n",
       "      <th></th>\n",
       "      <th>사업장명</th>\n",
       "      <th>업종구분대분류</th>\n",
       "      <th>업종구분소분류</th>\n",
       "      <th>인허가일자</th>\n",
       "      <th>인허가취소일자</th>\n",
       "      <th>영업상태명</th>\n",
       "      <th>상세영업상태명</th>\n",
       "      <th>폐업일자</th>\n",
       "      <th>휴업시작일자</th>\n",
       "      <th>휴업종료일자</th>\n",
       "      <th>재개업일자</th>\n",
       "      <th>소재지면적</th>\n",
       "      <th>소재지전체주소</th>\n",
       "      <th>도로명전체주소</th>\n",
       "      <th>도로명우편번호</th>\n",
       "      <th>데이터갱신일자</th>\n",
       "    </tr>\n",
       "  </thead>\n",
       "  <tbody>\n",
       "    <tr>\n",
       "      <th>8</th>\n",
       "      <td>레게펍</td>\n",
       "      <td>일반음식점</td>\n",
       "      <td>기타</td>\n",
       "      <td>20181105</td>\n",
       "      <td>NaN</td>\n",
       "      <td>영업/정상</td>\n",
       "      <td>영업</td>\n",
       "      <td>NaN</td>\n",
       "      <td>NaN</td>\n",
       "      <td>NaN</td>\n",
       "      <td>NaN</td>\n",
       "      <td>30.20</td>\n",
       "      <td>제주특별자치도 제주시 한림읍 귀덕리 3019</td>\n",
       "      <td>NaN</td>\n",
       "      <td>NaN</td>\n",
       "      <td>2023-11-07</td>\n",
       "    </tr>\n",
       "    <tr>\n",
       "      <th>522</th>\n",
       "      <td>타베니</td>\n",
       "      <td>일반음식점</td>\n",
       "      <td>한식</td>\n",
       "      <td>20190614</td>\n",
       "      <td>NaN</td>\n",
       "      <td>영업/정상</td>\n",
       "      <td>영업</td>\n",
       "      <td>NaN</td>\n",
       "      <td>NaN</td>\n",
       "      <td>NaN</td>\n",
       "      <td>NaN</td>\n",
       "      <td>57.36</td>\n",
       "      <td>제주특별자치도 제주시 애월읍 납읍리 2340-2번지 다동</td>\n",
       "      <td>NaN</td>\n",
       "      <td>NaN</td>\n",
       "      <td>2023-11-07</td>\n",
       "    </tr>\n",
       "    <tr>\n",
       "      <th>589</th>\n",
       "      <td>서우봉통돼지바베큐</td>\n",
       "      <td>일반음식점</td>\n",
       "      <td>한식</td>\n",
       "      <td>20230626</td>\n",
       "      <td>NaN</td>\n",
       "      <td>영업/정상</td>\n",
       "      <td>영업</td>\n",
       "      <td>NaN</td>\n",
       "      <td>NaN</td>\n",
       "      <td>NaN</td>\n",
       "      <td>NaN</td>\n",
       "      <td>163.00</td>\n",
       "      <td>제주특별자치도 제주시 조천읍 함덕리 산 1004 외1필지</td>\n",
       "      <td>NaN</td>\n",
       "      <td>NaN</td>\n",
       "      <td>2023-11-07</td>\n",
       "    </tr>\n",
       "    <tr>\n",
       "      <th>590</th>\n",
       "      <td>올레포차</td>\n",
       "      <td>일반음식점</td>\n",
       "      <td>분식</td>\n",
       "      <td>20230626</td>\n",
       "      <td>NaN</td>\n",
       "      <td>영업/정상</td>\n",
       "      <td>영업</td>\n",
       "      <td>NaN</td>\n",
       "      <td>NaN</td>\n",
       "      <td>NaN</td>\n",
       "      <td>NaN</td>\n",
       "      <td>100.00</td>\n",
       "      <td>제주특별자치도 제주시 조천읍 함덕리 1004 외1필지</td>\n",
       "      <td>NaN</td>\n",
       "      <td>NaN</td>\n",
       "      <td>2023-11-07</td>\n",
       "    </tr>\n",
       "    <tr>\n",
       "      <th>592</th>\n",
       "      <td>머물소낭밭</td>\n",
       "      <td>일반음식점</td>\n",
       "      <td>한식</td>\n",
       "      <td>20230626</td>\n",
       "      <td>NaN</td>\n",
       "      <td>영업/정상</td>\n",
       "      <td>영업</td>\n",
       "      <td>NaN</td>\n",
       "      <td>NaN</td>\n",
       "      <td>NaN</td>\n",
       "      <td>NaN</td>\n",
       "      <td>60.00</td>\n",
       "      <td>제주특별자치도 제주시 애월읍 곽지리 1565</td>\n",
       "      <td>NaN</td>\n",
       "      <td>NaN</td>\n",
       "      <td>2023-11-07</td>\n",
       "    </tr>\n",
       "    <tr>\n",
       "      <th>...</th>\n",
       "      <td>...</td>\n",
       "      <td>...</td>\n",
       "      <td>...</td>\n",
       "      <td>...</td>\n",
       "      <td>...</td>\n",
       "      <td>...</td>\n",
       "      <td>...</td>\n",
       "      <td>...</td>\n",
       "      <td>...</td>\n",
       "      <td>...</td>\n",
       "      <td>...</td>\n",
       "      <td>...</td>\n",
       "      <td>...</td>\n",
       "      <td>...</td>\n",
       "      <td>...</td>\n",
       "      <td>...</td>\n",
       "    </tr>\n",
       "    <tr>\n",
       "      <th>45724</th>\n",
       "      <td>하늬바람</td>\n",
       "      <td>휴게음식점</td>\n",
       "      <td>푸드트럭</td>\n",
       "      <td>20210408</td>\n",
       "      <td>NaN</td>\n",
       "      <td>영업/정상</td>\n",
       "      <td>영업</td>\n",
       "      <td>NaN</td>\n",
       "      <td>NaN</td>\n",
       "      <td>NaN</td>\n",
       "      <td>NaN</td>\n",
       "      <td>9.48</td>\n",
       "      <td>제주특별자치도 서귀포시 남원읍 위미리 산 102-5</td>\n",
       "      <td>NaN</td>\n",
       "      <td>NaN</td>\n",
       "      <td>2023-11-07</td>\n",
       "    </tr>\n",
       "    <tr>\n",
       "      <th>45846</th>\n",
       "      <td>진모살푸드트럭</td>\n",
       "      <td>휴게음식점</td>\n",
       "      <td>푸드트럭</td>\n",
       "      <td>20201224</td>\n",
       "      <td>NaN</td>\n",
       "      <td>영업/정상</td>\n",
       "      <td>영업</td>\n",
       "      <td>NaN</td>\n",
       "      <td>NaN</td>\n",
       "      <td>NaN</td>\n",
       "      <td>NaN</td>\n",
       "      <td>12.00</td>\n",
       "      <td>제주특별자치도 서귀포시 색달동 2950-3</td>\n",
       "      <td>NaN</td>\n",
       "      <td>NaN</td>\n",
       "      <td>2023-11-07</td>\n",
       "    </tr>\n",
       "    <tr>\n",
       "      <th>45857</th>\n",
       "      <td>색달푸드트럭</td>\n",
       "      <td>휴게음식점</td>\n",
       "      <td>푸드트럭</td>\n",
       "      <td>20201201</td>\n",
       "      <td>NaN</td>\n",
       "      <td>영업/정상</td>\n",
       "      <td>영업</td>\n",
       "      <td>NaN</td>\n",
       "      <td>NaN</td>\n",
       "      <td>NaN</td>\n",
       "      <td>NaN</td>\n",
       "      <td>12.00</td>\n",
       "      <td>제주특별자치도 서귀포시 색달동 2950-3</td>\n",
       "      <td>NaN</td>\n",
       "      <td>NaN</td>\n",
       "      <td>2023-11-07</td>\n",
       "    </tr>\n",
       "    <tr>\n",
       "      <th>45912</th>\n",
       "      <td>제주밭담샾어멍아방카페</td>\n",
       "      <td>휴게음식점</td>\n",
       "      <td>커피숍</td>\n",
       "      <td>20230921</td>\n",
       "      <td>NaN</td>\n",
       "      <td>영업/정상</td>\n",
       "      <td>영업</td>\n",
       "      <td>NaN</td>\n",
       "      <td>NaN</td>\n",
       "      <td>NaN</td>\n",
       "      <td>NaN</td>\n",
       "      <td>90.00</td>\n",
       "      <td>제주특별자치도 서귀포시 성산읍 신풍리 456-8</td>\n",
       "      <td>NaN</td>\n",
       "      <td>NaN</td>\n",
       "      <td>2023-11-07</td>\n",
       "    </tr>\n",
       "    <tr>\n",
       "      <th>45916</th>\n",
       "      <td>돌고래푸드트럭</td>\n",
       "      <td>휴게음식점</td>\n",
       "      <td>푸드트럭</td>\n",
       "      <td>20230927</td>\n",
       "      <td>NaN</td>\n",
       "      <td>영업/정상</td>\n",
       "      <td>영업</td>\n",
       "      <td>NaN</td>\n",
       "      <td>NaN</td>\n",
       "      <td>NaN</td>\n",
       "      <td>NaN</td>\n",
       "      <td>9.25</td>\n",
       "      <td>제주특별자치도 서귀포시 법환동 914 제주월드컵경기장 광장 내(별도 지정구역)</td>\n",
       "      <td>NaN</td>\n",
       "      <td>NaN</td>\n",
       "      <td>2023-11-07</td>\n",
       "    </tr>\n",
       "  </tbody>\n",
       "</table>\n",
       "<p>220 rows × 16 columns</p>\n",
       "</div>"
      ],
      "text/plain": [
       "              사업장명 업종구분대분류 업종구분소분류     인허가일자  인허가취소일자  영업상태명 상세영업상태명  폐업일자  \\\n",
       "8              레게펍   일반음식점      기타  20181105      NaN  영업/정상      영업   NaN   \n",
       "522            타베니   일반음식점      한식  20190614      NaN  영업/정상      영업   NaN   \n",
       "589      서우봉통돼지바베큐   일반음식점      한식  20230626      NaN  영업/정상      영업   NaN   \n",
       "590           올레포차   일반음식점      분식  20230626      NaN  영업/정상      영업   NaN   \n",
       "592          머물소낭밭   일반음식점      한식  20230626      NaN  영업/정상      영업   NaN   \n",
       "...            ...     ...     ...       ...      ...    ...     ...   ...   \n",
       "45724         하늬바람   휴게음식점    푸드트럭  20210408      NaN  영업/정상      영업   NaN   \n",
       "45846      진모살푸드트럭   휴게음식점    푸드트럭  20201224      NaN  영업/정상      영업   NaN   \n",
       "45857       색달푸드트럭   휴게음식점    푸드트럭  20201201      NaN  영업/정상      영업   NaN   \n",
       "45912  제주밭담샾어멍아방카페   휴게음식점     커피숍  20230921      NaN  영업/정상      영업   NaN   \n",
       "45916      돌고래푸드트럭   휴게음식점    푸드트럭  20230927      NaN  영업/정상      영업   NaN   \n",
       "\n",
       "       휴업시작일자  휴업종료일자  재개업일자   소재지면적  \\\n",
       "8         NaN     NaN    NaN   30.20   \n",
       "522       NaN     NaN    NaN   57.36   \n",
       "589       NaN     NaN    NaN  163.00   \n",
       "590       NaN     NaN    NaN  100.00   \n",
       "592       NaN     NaN    NaN   60.00   \n",
       "...       ...     ...    ...     ...   \n",
       "45724     NaN     NaN    NaN    9.48   \n",
       "45846     NaN     NaN    NaN   12.00   \n",
       "45857     NaN     NaN    NaN   12.00   \n",
       "45912     NaN     NaN    NaN   90.00   \n",
       "45916     NaN     NaN    NaN    9.25   \n",
       "\n",
       "                                           소재지전체주소 도로명전체주소  도로명우편번호  \\\n",
       "8                         제주특별자치도 제주시 한림읍 귀덕리 3019     NaN      NaN   \n",
       "522                제주특별자치도 제주시 애월읍 납읍리 2340-2번지 다동     NaN      NaN   \n",
       "589                제주특별자치도 제주시 조천읍 함덕리 산 1004 외1필지     NaN      NaN   \n",
       "590                  제주특별자치도 제주시 조천읍 함덕리 1004 외1필지     NaN      NaN   \n",
       "592                       제주특별자치도 제주시 애월읍 곽지리 1565     NaN      NaN   \n",
       "...                                            ...     ...      ...   \n",
       "45724                 제주특별자치도 서귀포시 남원읍 위미리 산 102-5     NaN      NaN   \n",
       "45846                      제주특별자치도 서귀포시 색달동 2950-3     NaN      NaN   \n",
       "45857                      제주특별자치도 서귀포시 색달동 2950-3     NaN      NaN   \n",
       "45912                   제주특별자치도 서귀포시 성산읍 신풍리 456-8     NaN      NaN   \n",
       "45916  제주특별자치도 서귀포시 법환동 914 제주월드컵경기장 광장 내(별도 지정구역)     NaN      NaN   \n",
       "\n",
       "          데이터갱신일자  \n",
       "8      2023-11-07  \n",
       "522    2023-11-07  \n",
       "589    2023-11-07  \n",
       "590    2023-11-07  \n",
       "592    2023-11-07  \n",
       "...           ...  \n",
       "45724  2023-11-07  \n",
       "45846  2023-11-07  \n",
       "45857  2023-11-07  \n",
       "45912  2023-11-07  \n",
       "45916  2023-11-07  \n",
       "\n",
       "[220 rows x 16 columns]"
      ]
     },
     "execution_count": 21,
     "metadata": {},
     "output_type": "execute_result"
    }
   ],
   "source": [
    "jejuData[jejuData['도로명전체주소'].isna()]"
   ]
  },
  {
   "cell_type": "code",
   "execution_count": 22,
   "metadata": {},
   "outputs": [
    {
     "data": {
      "text/plain": [
       "76"
      ]
     },
     "execution_count": 22,
     "metadata": {},
     "output_type": "execute_result"
    }
   ],
   "source": [
    "jejuData['소재지전체주소'].isna().sum()"
   ]
  },
  {
   "cell_type": "code",
   "execution_count": 27,
   "metadata": {},
   "outputs": [
    {
     "data": {
      "text/plain": [
       "0"
      ]
     },
     "execution_count": 27,
     "metadata": {},
     "output_type": "execute_result"
    }
   ],
   "source": [
    "jejuData['사업장명'].isna().sum()"
   ]
  },
  {
   "cell_type": "markdown",
   "metadata": {},
   "source": [
    "---\n",
    "### DataPreprocessing"
   ]
  },
  {
   "cell_type": "code",
   "execution_count": 18,
   "metadata": {},
   "outputs": [],
   "source": [
    "# 폐업일자가 없는 데이터만 쓰기\n",
    "jejuData = jejuData[jejuData['폐업일자'].isna()]"
   ]
  },
  {
   "cell_type": "markdown",
   "metadata": {},
   "source": [
    "> 도로명 주소가 na값인 것들이 220개여서 그냥 제외하기"
   ]
  },
  {
   "cell_type": "code",
   "execution_count": null,
   "metadata": {},
   "outputs": [],
   "source": [
    "# 도로명주소가 있는 데이터만 쓰기\n",
    "jejuData = jejuData[~jejuData['도로명전체주소'].isna()]"
   ]
  },
  {
   "cell_type": "code",
   "execution_count": 26,
   "metadata": {},
   "outputs": [
    {
     "data": {
      "text/plain": [
       "0        11\n",
       "1        11\n",
       "2        11\n",
       "3        11\n",
       "4        11\n",
       "         ..\n",
       "45910    11\n",
       "45911    11\n",
       "45913    11\n",
       "45914    11\n",
       "45915    11\n",
       "Length: 20656, dtype: int64"
      ]
     },
     "execution_count": 26,
     "metadata": {},
     "output_type": "execute_result"
    }
   ],
   "source": [
    "jejuData.count(axis=1)"
   ]
  },
  {
   "cell_type": "markdown",
   "metadata": {},
   "source": [
    "> 쓸 데이터는 최종적으로 20,656개임"
   ]
  },
  {
   "cell_type": "markdown",
   "metadata": {},
   "source": [
    "---\n",
    "### 네이버 지오코딩으로 도로명 전체주소를 써서 위도경도 뽑기"
   ]
  },
  {
   "cell_type": "code",
   "execution_count": 31,
   "metadata": {},
   "outputs": [],
   "source": [
    "import urllib.request # network 요청 보내기\n",
    "import json\n",
    "import time\n",
    "import random\n",
    "\n",
    "# 네이버 API 키 정보들\n",
    "client_id = \"zh4c9yakmm\"\n",
    "client_secret = \"Nh6EIvxVKC6LhvKCpojoHOEfdTCArsL1ET3tqa70\""
   ]
  },
  {
   "cell_type": "code",
   "execution_count": 29,
   "metadata": {},
   "outputs": [],
   "source": [
    "# 위도경도를 뽑아올 함수 정의\n",
    "def addressToLatLng(address):\n",
    "    url = \"https://naveropenapi.apigw.ntruss.com/map-geocode/v2/geocode?query=\" + urllib.parse.quote(address)\n",
    "    request = urllib.request.Request(url)\n",
    "    request.add_header(\"X-NCP-APIGW-API-KEY-ID\", client_id)\n",
    "    request.add_header(\"X-NCP-APIGW-API-KEY\", client_secret)\n",
    "    response = urllib.request.urlopen(request)\n",
    "    rescode = response.getcode()\n",
    "    lat_lng = None\n",
    "    if rescode == 200:\n",
    "        response_body = response.read()\n",
    "        entext = response_body.decode('utf-8')\n",
    "        data = json.loads(entext)\n",
    "        try:\n",
    "            lat_lng = {\n",
    "                \"lat\": data['addresses'][0]['y'],\n",
    "                \"lng\": data['addresses'][0]['x']\n",
    "            }\n",
    "        except:\n",
    "            # 주소에서 가져올 수 없을 때 공백 추가\n",
    "            lat_lng = {\"lat\": \"\", \"lng\": \"\"}\n",
    "    else:\n",
    "        print(\"Error Code:\" + rescode)\n",
    "    return lat_lng\n",
    "# 데이터프레임 초기화\n",
    "df = pd.DataFrame(columns=['latitude', 'longitude'])"
   ]
  },
  {
   "cell_type": "code",
   "execution_count": 34,
   "metadata": {},
   "outputs": [
    {
     "name": "stdout",
     "output_type": "stream",
     "text": [
      "1\n",
      "2\n",
      "3\n",
      "4\n",
      "5\n",
      "6\n",
      "7\n",
      "8\n",
      "9\n",
      "10\n",
      "11\n",
      "12\n",
      "13\n"
     ]
    },
    {
     "ename": "KeyboardInterrupt",
     "evalue": "",
     "output_type": "error",
     "traceback": [
      "\u001b[0;31m---------------------------------------------------------------------------\u001b[0m",
      "\u001b[0;31mKeyboardInterrupt\u001b[0m                         Traceback (most recent call last)",
      "Cell \u001b[0;32mIn[34], line 6\u001b[0m\n\u001b[1;32m      4\u001b[0m \u001b[38;5;66;03m# 주소별 위도와 경도를 추출하여 데이터프레임에 추가\u001b[39;00m\n\u001b[1;32m      5\u001b[0m \u001b[38;5;28;01mfor\u001b[39;00m address \u001b[38;5;129;01min\u001b[39;00m jejuData[\u001b[38;5;124m'\u001b[39m\u001b[38;5;124m도로명전체주소\u001b[39m\u001b[38;5;124m'\u001b[39m]:\n\u001b[0;32m----> 6\u001b[0m     \u001b[43mtime\u001b[49m\u001b[38;5;241;43m.\u001b[39;49m\u001b[43msleep\u001b[49m\u001b[43m(\u001b[49m\u001b[43mrandom\u001b[49m\u001b[38;5;241;43m.\u001b[39;49m\u001b[43muniform\u001b[49m\u001b[43m(\u001b[49m\u001b[38;5;241;43m0.5\u001b[39;49m\u001b[43m,\u001b[49m\u001b[43m \u001b[49m\u001b[38;5;241;43m1.0\u001b[39;49m\u001b[43m)\u001b[49m\u001b[43m)\u001b[49m \n\u001b[1;32m      7\u001b[0m     lat_lng \u001b[38;5;241m=\u001b[39m addressToLatLng(address)\n\u001b[1;32m      8\u001b[0m     \u001b[38;5;28;01mif\u001b[39;00m lat_lng:\n",
      "\u001b[0;31mKeyboardInterrupt\u001b[0m: "
     ]
    }
   ],
   "source": [
    "# Test\n",
    "# addressToLatLng(\"제주특별자치도 제주시 중앙로 581, 에이동 1층 (아라일동)\")\n",
    "count = 1\n",
    "# 주소별 위도와 경도를 추출하여 데이터프레임에 추가\n",
    "for address in jejuData['도로명전체주소']:\n",
    "    time.sleep(random.uniform(0.5, 1.0)) \n",
    "    lat_lng = addressToLatLng(address)\n",
    "    if lat_lng:\n",
    "        df = pd.concat([df, pd.DataFrame([lat_lng])], ignore_index=True)        \n",
    "        print(count)\n",
    "        count += 1\n",
    "\n",
    "print(\"완료\")"
   ]
  },
  {
   "cell_type": "code",
   "execution_count": null,
   "metadata": {},
   "outputs": [],
   "source": []
  }
 ],
 "metadata": {
  "kernelspec": {
   "display_name": "tensorflow",
   "language": "python",
   "name": "python3"
  },
  "language_info": {
   "codemirror_mode": {
    "name": "ipython",
    "version": 3
   },
   "file_extension": ".py",
   "mimetype": "text/x-python",
   "name": "python",
   "nbconvert_exporter": "python",
   "pygments_lexer": "ipython3",
   "version": "3.10.12"
  }
 },
 "nbformat": 4,
 "nbformat_minor": 2
}
